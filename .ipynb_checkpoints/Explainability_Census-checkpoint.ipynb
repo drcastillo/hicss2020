{
 "cells": [
  {
   "cell_type": "code",
   "execution_count": 1,
   "metadata": {
    "ExecuteTime": {
     "end_time": "2019-06-06T06:19:54.512012Z",
     "start_time": "2019-06-06T06:19:52.888602Z"
    },
    "scrolled": true
   },
   "outputs": [
    {
     "name": "stderr",
     "output_type": "stream",
     "text": [
      "Using TensorFlow backend.\n"
     ]
    }
   ],
   "source": [
    "## Explainability\n",
    "#!pip install -r requirements.txt --user\n",
    "#!pip install numpy\n",
    "import pandas as pd\n",
    "import numpy as np\n",
    "import matplotlib\n",
    "from helpful_util import Perturb, load_models_uci, display_sklearn_feature_importance\n",
    "import warnings\n",
    "warnings.filterwarnings('ignore')\n",
    "import keras\n",
    "import lime\n",
    "import lime.lime_tabular\n",
    "%matplotlib inline"
   ]
  },
  {
   "cell_type": "code",
   "execution_count": 2,
   "metadata": {
    "ExecuteTime": {
     "end_time": "2019-06-06T06:19:55.790540Z",
     "start_time": "2019-06-06T06:19:55.736657Z"
    }
   },
   "outputs": [],
   "source": [
    "#Loading COO Matrices - sparse with OHE of all original Features\n",
    "\n",
    "def save_obj(obj, name):\n",
    "    import pickle\n",
    "    with open('obj/census/' + name + '.pkl', 'wb') as f:\n",
    "        pickle.dump(obj, f, pickle.HIGHEST_PROTOCOL)\n",
    "\n",
    "\n",
    "def load_obj(name):\n",
    "    import pickle\n",
    "    with open('obj/census/' + name + '.pkl', 'rb') as f:\n",
    "        return pickle.load(f)\n",
    "    \n",
    "\n",
    "\n",
    "#Keras and Sklearn have different ways of showing prediction probabilities. Keras == model.predict, sklearn == model.predict_proba\n",
    "def explain_lime(model, train, test, observation, seed = 1, num_features = 10):\n",
    "    '''\n",
    "    Parameters:\n",
    "        model: object,\n",
    "            Random Forest: rfc\n",
    "            Gradient Boosted Classifier: gbc\n",
    "            Logistic Regression: logit\n",
    "            Keras Neural Network = keras_ann\n",
    "            Sklearn Neural Network = sk_ann\n",
    "        train: object; train set dataframe\n",
    "        test: object; test set dataframe\n",
    "        observation: int (index of explanation on test data set)\n",
    "        seed: int; default to 1\n",
    "        num_features: int, the number of features to be displayed in explanation\n",
    "        \n",
    "    Returns:\n",
    "        Local explanations over test set - Summary\n",
    "    '''\n",
    "    np.random.seed(seed)\n",
    "    i = observation\n",
    "    \n",
    "    if type(model) == keras.engine.sequential.Sequential:\n",
    "        predict_fn = lambda x: model.predict(encoder.transform(x).toarray())\n",
    "    else:\n",
    "        predict_fn = lambda x: model.predict_proba(encoder.transform(x)).astype(float)\n",
    "\n",
    "    explainer = lime.lime_tabular.LimeTabularExplainer(\n",
    "        train,\n",
    "        feature_names=feature_names,\n",
    "        class_names=class_names,\n",
    "        categorical_features=categorical_features,\n",
    "        categorical_names=categorical_names,\n",
    "        kernel_width=3)\n",
    "\n",
    "    \n",
    "    exp = explainer.explain_instance(test[i], predict_fn, num_features= num_features)\n",
    "    exp.show_in_notebook(show_all=True)\n",
    "\n",
    "    print('-' * 125)    \n",
    "    print(\"Looking at Observation: {}\".format(i))\n",
    "    print(\"Actual Class Label: {}\".format(y_test[i]))   \n",
    "    %matplotlib inline\n",
    "    try: #If Keras\n",
    "        print(\"Predicted Class Label: {}\".format(np.argmax(model.predict(encoder.transform(test).toarray()),axis = 1)[i]))\n",
    "        print(\"Prediction Confidence (Prob): {0:.2f}%\".format(np.max(model.predict(encoder.transform(test).toarray())[i]*100)))\n",
    "        print('-' * 125)\n",
    "        print(\"Displaying Local Explanation for Prediction......\")\n",
    "    except: #If Sklearn\n",
    "        print('-' * 125)\n",
    "        print(\"Predicted Class Label: {}\".format(np.argmax(model.predict_proba(encoder.transform(test[i].reshape(1,-1))).astype(float))\n",
    "        ))\n",
    "        print(\"Prediction Confidence (Prob): {0:.2f}%\".format(np.max(model.predict_proba(encoder.transform(test[i].reshape(1,-1)))[0])*100))\n",
    "        print('-' * 125)\n",
    "        print(\"Displaying Local Explanation for Prediction: Top {} Features......\".format(num_features))\n",
    "    fig = exp.as_pyplot_figure()"
   ]
  },
  {
   "cell_type": "markdown",
   "metadata": {},
   "source": [
    "## Load Data Objects. Stored these locally/remotely to avoid dependency issues"
   ]
  },
  {
   "cell_type": "code",
   "execution_count": 3,
   "metadata": {
    "ExecuteTime": {
     "end_time": "2019-06-06T06:20:01.926428Z",
     "start_time": "2019-06-06T06:19:58.991615Z"
    }
   },
   "outputs": [
    {
     "name": "stdout",
     "output_type": "stream",
     "text": [
      "WARNING:tensorflow:From C:\\ProgramData\\Anaconda3\\envs\\tf_gpu\\lib\\site-packages\\tensorflow\\python\\framework\\op_def_library.py:263: colocate_with (from tensorflow.python.framework.ops) is deprecated and will be removed in a future version.\n",
      "Instructions for updating:\n",
      "Colocations handled automatically by placer.\n",
      "WARNING:tensorflow:From C:\\Users\\jdine\\AppData\\Roaming\\Python\\Python37\\site-packages\\keras\\backend\\tensorflow_backend.py:3445: calling dropout (from tensorflow.python.ops.nn_ops) with keep_prob is deprecated and will be removed in a future version.\n",
      "Instructions for updating:\n",
      "Please use `rate` instead of `keep_prob`. Rate should be set to `rate = 1 - keep_prob`.\n",
      "WARNING:tensorflow:From C:\\ProgramData\\Anaconda3\\envs\\tf_gpu\\lib\\site-packages\\tensorflow\\python\\ops\\math_ops.py:3066: to_int32 (from tensorflow.python.ops.math_ops) is deprecated and will be removed in a future version.\n",
      "Instructions for updating:\n",
      "Use tf.cast instead.\n"
     ]
    }
   ],
   "source": [
    "feature_names = [\n",
    "    \"Age\", \"Workclass\", \"fnlwgt\", \"Education\", \"Education-Num\",\n",
    "    \"Marital Status\", \"Occupation\", \"Relationship\", \"Race\", \"Sex\",\n",
    "    \"Capital Gain\", \"Capital Loss\", \"Hours per week\", \"Country\"\n",
    "]\n",
    "\n",
    "continuous = [\n",
    "    'age', 'fnlwgt', 'Education-Num', 'capital_gain', 'capital_loss',\n",
    "    'hrs_per_week'\n",
    "]\n",
    "\n",
    "rfc, gbc, logit, keras_ann, sk_ann = load_models_uci()\n",
    "\n",
    "X_train = load_obj('data_objects/X_train')\n",
    "X_test = load_obj('data_objects/X_test')\n",
    "y_train = load_obj('data_objects/y_train')\n",
    "y_test = load_obj('data_objects/y_test')\n",
    "\n",
    "encoded_train = load_obj('data_objects/encoded_train')\n",
    "encoded_test = load_obj('data_objects/encoded_test')\n",
    "categorical_names = load_obj('data_objects/categorical_names')\n",
    "data = load_obj('data_objects/data')\n",
    "encoder = load_obj('data_objects/encoder')\n",
    "\n",
    "#SciKit Learn Feature Importance in Linear Coefficient Rankinks\n",
    "#all features as a list. Unwrapping encoding\n",
    "features = []\n",
    "for k in categorical_names.values():\n",
    "    for i in k:\n",
    "        features.append(i)\n",
    "        \n",
    "        \n",
    "categorical_features = [1, 3, 5, 6, 7, 8, 9,\n",
    "                        13]  #Get Nominal / Ordinal / etc..\n",
    "\n",
    "features = features + continuous\n",
    "\n",
    "#Split\n",
    "#Manual perturbations\n",
    "%matplotlib inline\n",
    "X_test_holdout = load_obj('data_objects/X_test')\n",
    "idx = np.random.choice(X_test_holdout.shape[0], 2000,\n",
    "                       replace=False)  #Random 2000 samples w/o replacements\n",
    "X_test_holdout = X_test_holdout[idx]  #extract\n",
    "X_test_holdout = pd.DataFrame(\n",
    "    encoder.transform(X_test_holdout).toarray(),\n",
    "    columns=features)  #Convert to DF for column names\n",
    "y_test_holdout = y_test[idx]\n",
    "\n",
    "X_train_shap = pd.DataFrame(encoded_train.toarray(), columns=features)\n",
    "X_test_shap = pd.DataFrame(encoder.transform(X_test).toarray(),\n",
    "                           columns=features)\n",
    "X_shap = pd.concat([X_train_shap, X_test_shap])\n",
    "\n",
    "shap_values = load_obj('data_objects/shap_values')  #Load Dict of Shap Values\n",
    "\n",
    "models = {\n",
    "    str(type(rfc)): ('Random Forest', shap_values[str(type(rfc))]),\n",
    "    str(type(gbc)):\n",
    "    ('Gradient Boosted Classifier', shap_values[str(type(gbc))]),\n",
    "    str(type(logit)): ('Logistic Regression', shap_values[str(type(logit))]),\n",
    "    str(type(sk_ann)):\n",
    "    ('Sklearn MultiLayer Perceptron', shap_values[str(type(sk_ann))]),\n",
    "    str(type(keras_ann)):\n",
    "    ('Keras Multilayer Perceptron', shap_values[str(type(keras_ann))])\n",
    "}\n",
    "\n",
    "\n",
    "\n",
    "\n",
    "class_names = ['<50k', '>50k']"
   ]
  },
  {
   "cell_type": "markdown",
   "metadata": {},
   "source": [
    "## Some statistics on our models"
   ]
  },
  {
   "cell_type": "code",
   "execution_count": 4,
   "metadata": {
    "ExecuteTime": {
     "end_time": "2019-06-06T06:20:04.066522Z",
     "start_time": "2019-06-06T06:20:03.446899Z"
    }
   },
   "outputs": [
    {
     "name": "stdout",
     "output_type": "stream",
     "text": [
      "\u001b[1mPrinting Test Accuracy.... \u001b[0m\n",
      "Random Forest: 97.55 %\n",
      "Gradient Boosting: 88.58 %\n",
      "Logistic Regression: 82.45 %\n",
      "SKLEARN Neural Net: 68.87 %\n",
      "Keras Neural Net: 80.10 % \n",
      " \n",
      "\n"
     ]
    }
   ],
   "source": [
    "#Some classification Reports and Confusion Matrices\n",
    "import sklearn\n",
    "import numpy as np\n",
    "from sklearn.metrics import confusion_matrix, classification_report\n",
    "\n",
    "get_best_score = lambda x, y: sklearn.metrics.accuracy_score(\n",
    "    x, y.predict(encoded_test))\n",
    "\n",
    "rf_best_score = get_best_score(y_test, rfc)\n",
    "gbc_best_score = get_best_score(y_test, gbc)\n",
    "lr_best_score = get_best_score(y_test, logit)\n",
    "nn_best_score = get_best_score(y_test, sk_ann)\n",
    "ker_nn_best_score = sklearn.metrics.accuracy_score(\n",
    "    y_test, np.argmax(keras_ann.predict(encoded_test.toarray()), axis=1))\n",
    "\n",
    "print(\"\\033[1mPrinting Test Accuracy.... \\033[0m\")\n",
    "print(\"Random Forest: {0:.2f} %\".format(rf_best_score * 100))\n",
    "print(\"Gradient Boosting: {0:.2f} %\".format(gbc_best_score * 100))\n",
    "print(\"Logistic Regression: {0:.2f} %\".format(lr_best_score * 100))\n",
    "print(\"SKLEARN Neural Net: {0:.2f} %\".format(nn_best_score * 100))\n",
    "print(\"Keras Neural Net: {0:.2f} % \\n \\n\".format(ker_nn_best_score * 100))"
   ]
  },
  {
   "cell_type": "code",
   "execution_count": 5,
   "metadata": {
    "ExecuteTime": {
     "end_time": "2019-06-06T06:20:06.583340Z",
     "start_time": "2019-06-06T06:20:05.781483Z"
    },
    "scrolled": false
   },
   "outputs": [
    {
     "data": {
      "application/vnd.jupyter.widget-view+json": {
       "model_id": "657b9b126e40435abfea16247e3a99c8",
       "version_major": 2,
       "version_minor": 0
      },
      "text/plain": [
       "interactive(children=(Dropdown(description='model', options=(RandomForestClassifier(bootstrap=True, class_weig…"
      ]
     },
     "metadata": {},
     "output_type": "display_data"
    }
   ],
   "source": [
    "from pylab import rcParams\n",
    "from helpful_util import plot_confusion_matrix\n",
    "import matplotlib.pyplot as plt\n",
    "import cufflinks as cf\n",
    "import ipywidgets as widgets\n",
    "from ipywidgets import interact, interact_manual\n",
    "'''\n",
    "Cleaned up Code here. Added Drop Down to select the model to plot/print classification reports\n",
    "Toggle Model for class report by different models\n",
    "\n",
    "'''\n",
    "print_class_report = lambda x, y: print(classification_report(x, y))\n",
    "\n",
    "\n",
    "@interact\n",
    "def classif_reports(model=[rfc, logit, gbc, sk_ann, keras_ann]):\n",
    "    print(\"\\n\\033[1m {} Classification Report...\\n \\033[0m\".format(models[str(\n",
    "        type(model))][0]))\n",
    "    if model == keras_ann:\n",
    "        cm = confusion_matrix(\n",
    "            y_test, np.argmax(model.predict(encoded_test.toarray()), axis=1))\n",
    "        print_class_report(\n",
    "            y_test, np.argmax(model.predict(encoded_test.toarray()), axis=1))\n",
    "    else:\n",
    "        cm = confusion_matrix(y_test, model.predict(encoded_test))\n",
    "        print_class_report(y_test, model.predict(encoded_test))\n",
    "    plot_confusion_matrix(cm, classes=class_names, normalize=True)"
   ]
  },
  {
   "cell_type": "markdown",
   "metadata": {},
   "source": [
    "## Graphs Showing Standard Feature Importance via Sklearn API\n"
   ]
  },
  {
   "cell_type": "code",
   "execution_count": 8,
   "metadata": {
    "ExecuteTime": {
     "end_time": "2019-06-06T06:21:04.837211Z",
     "start_time": "2019-06-06T06:21:02.641091Z"
    },
    "scrolled": false
   },
   "outputs": [
    {
     "data": {
      "application/vnd.jupyter.widget-view+json": {
       "model_id": "5d8bca1865e24ee3badbe2858b66651f",
       "version_major": 2,
       "version_minor": 0
      },
      "text/plain": [
       "interactive(children=(IntSlider(value=10, description='feature_count', max=30, min=-10), Output()), _dom_class…"
      ]
     },
     "metadata": {},
     "output_type": "display_data"
    }
   ],
   "source": [
    "#SciKit Learn Feature Importance in Linear Coefficient Rankinks\n",
    "rcParams['figure.figsize'] = 7, 7  #Adjust plot size\n",
    "import seaborn as sns\n",
    "'''\n",
    "Logistic Regression Feature importance values are shown as the maximum potential coefficient values based on the max value of\n",
    "the feature in question * the weight. \n",
    "I have the raw coeff. printed in tables side by side in a block below.\n",
    "\n",
    "Toggle Feature Count to display more / less\n",
    "\n",
    "'''\n",
    "#display_sklearn_feature_importance(data = encoded_train, set = 'lending', features = features, n_features=15)\n",
    "\n",
    "\n",
    "@interact\n",
    "def sklearn_feature_importance_int(feature_count=10):\n",
    "    display_sklearn_feature_importance(data=encoded_train,\n",
    "                                       set='uci',\n",
    "                                       features=features,\n",
    "                                       n_features=feature_count)"
   ]
  },
  {
   "cell_type": "code",
   "execution_count": 9,
   "metadata": {
    "ExecuteTime": {
     "end_time": "2019-06-06T06:21:10.049457Z",
     "start_time": "2019-06-06T06:21:09.753248Z"
    },
    "scrolled": true
   },
   "outputs": [
    {
     "name": "stdout",
     "output_type": "stream",
     "text": [
      "Standard errors:  [1.68657958e+06            nan 1.93617717e+06 1.88502382e+06\n",
      "            nan 2.08043330e+06 2.13180976e+06 2.19155397e+06\n",
      " 1.49696094e+06 2.25436193e+06 4.56691973e+06 4.58433851e+06\n",
      " 4.52462409e+06 4.41510394e+06 4.05495019e+06 4.17874733e+06\n",
      " 4.42034210e+06 4.44821245e+06 4.73341168e+06 4.73615080e+06\n",
      " 4.80377020e+06 4.49343357e+06 4.42709210e+06 4.08976938e+06\n",
      " 4.88932112e+06 4.73164249e+06            nan            nan\n",
      "            nan            nan            nan            nan\n",
      "            nan            nan 2.13368723e+06 2.08075458e+06\n",
      " 2.10103910e+06 2.08869580e+06 2.12061696e+06 2.09877326e+06\n",
      " 2.13074366e+06 2.15367184e+06 2.10407080e+06 2.09887532e+06\n",
      " 2.06936788e+06 2.10468285e+06 2.12325793e+06 2.11025055e+06\n",
      " 1.93488802e+06 1.83856377e+06 1.96286376e+06 1.92547245e+06\n",
      " 1.84842209e+06 1.59509386e+06 2.54115116e+06 2.54115116e+06\n",
      " 2.56167223e+06 2.55826349e+06 2.57864838e+06 3.92419705e+05\n",
      " 4.15297980e+05            nan            nan            nan\n",
      "            nan            nan            nan            nan\n",
      "            nan            nan            nan            nan\n",
      "            nan            nan            nan            nan\n",
      "            nan            nan            nan            nan\n",
      "            nan            nan            nan            nan\n",
      "            nan            nan            nan            nan\n",
      "            nan            nan            nan            nan\n",
      "            nan            nan            nan            nan\n",
      "            nan            nan            nan            nan\n",
      "            nan            nan 2.56839291e-03 2.53736178e-07\n",
      "            nan 1.60091806e-05 6.12952641e-05 2.59995227e-03]\n"
     ]
    }
   ],
   "source": [
    "#Fetching logit coefficients and storing locally @ obj/lendingclub/logit_coefficients.csv\n",
    "# + Generating standard errors\n",
    "\n",
    "logistic_regress_coeff = pd.DataFrame({\n",
    "    \"features\": features,\n",
    "    \"Coef\": logit.coef_[0]\n",
    "})\n",
    "#logistic_regress_coeff.to_csv('obj/lendingclub/logit_coefficients.csv')\n",
    "\n",
    "predProbs = logit.predict_proba(encoded_train.toarray())\n",
    "X_design = np.hstack(\n",
    "    [np.ones((encoded_train.toarray().shape[0], 1)),\n",
    "     encoded_train.toarray()])\n",
    "V = np.diagflat(np.product(predProbs, axis=1))\n",
    "covLogit = np.linalg.inv(X_design.T @ V @ X_design)\n",
    "#print(\"Covariance matrix: \", covLogit)\n",
    "# Standard errors\n",
    "print(\"Standard errors: \", np.sqrt(np.diag(covLogit)))"
   ]
  },
  {
   "cell_type": "code",
   "execution_count": 10,
   "metadata": {
    "ExecuteTime": {
     "end_time": "2019-06-06T06:21:12.422057Z",
     "start_time": "2019-06-06T06:21:12.405086Z"
    }
   },
   "outputs": [
    {
     "data": {
      "text/html": [
       "<table style=\"display:inline\" border=\"1\" class=\"dataframe\">\n",
       "  <thead>\n",
       "    <tr style=\"text-align: right;\">\n",
       "      <th></th>\n",
       "      <th>features</th>\n",
       "      <th>Coef</th>\n",
       "    </tr>\n",
       "  </thead>\n",
       "  <tbody>\n",
       "    <tr>\n",
       "      <th>58</th>\n",
       "      <td>Female</td>\n",
       "      <td>-2.402809</td>\n",
       "    </tr>\n",
       "    <tr>\n",
       "      <th>29</th>\n",
       "      <td>Never-married</td>\n",
       "      <td>-2.336644</td>\n",
       "    </tr>\n",
       "    <tr>\n",
       "      <th>30</th>\n",
       "      <td>Separated</td>\n",
       "      <td>-2.079735</td>\n",
       "    </tr>\n",
       "    <tr>\n",
       "      <th>28</th>\n",
       "      <td>Married-spouse-absent</td>\n",
       "      <td>-2.036485</td>\n",
       "    </tr>\n",
       "    <tr>\n",
       "      <th>25</th>\n",
       "      <td>Divorced</td>\n",
       "      <td>-1.836591</td>\n",
       "    </tr>\n",
       "    <tr>\n",
       "      <th>31</th>\n",
       "      <td>Widowed</td>\n",
       "      <td>-1.678328</td>\n",
       "    </tr>\n",
       "    <tr>\n",
       "      <th>59</th>\n",
       "      <td>Male</td>\n",
       "      <td>-1.624931</td>\n",
       "    </tr>\n",
       "    <tr>\n",
       "      <th>41</th>\n",
       "      <td>Priv-house-serv</td>\n",
       "      <td>-1.550283</td>\n",
       "    </tr>\n",
       "    <tr>\n",
       "      <th>94</th>\n",
       "      <td>South</td>\n",
       "      <td>-1.522959</td>\n",
       "    </tr>\n",
       "    <tr>\n",
       "      <th>37</th>\n",
       "      <td>Farming-fishing</td>\n",
       "      <td>-1.424791</td>\n",
       "    </tr>\n",
       "    <tr>\n",
       "      <th>64</th>\n",
       "      <td>Columbia</td>\n",
       "      <td>-1.325879</td>\n",
       "    </tr>\n",
       "    <tr>\n",
       "      <th>72</th>\n",
       "      <td>Greece</td>\n",
       "      <td>-1.177021</td>\n",
       "    </tr>\n",
       "    <tr>\n",
       "      <th>50</th>\n",
       "      <td>Own-child</td>\n",
       "      <td>-1.144836</td>\n",
       "    </tr>\n",
       "    <tr>\n",
       "      <th>66</th>\n",
       "      <td>Dominican-Republic</td>\n",
       "      <td>-1.105233</td>\n",
       "    </tr>\n",
       "    <tr>\n",
       "      <th>49</th>\n",
       "      <td>Other-relative</td>\n",
       "      <td>-0.923117</td>\n",
       "    </tr>\n",
       "    <tr>\n",
       "      <th>56</th>\n",
       "      <td>Other</td>\n",
       "      <td>-0.894192</td>\n",
       "    </tr>\n",
       "    <tr>\n",
       "      <th>32</th>\n",
       "      <td>?</td>\n",
       "      <td>-0.873001</td>\n",
       "    </tr>\n",
       "    <tr>\n",
       "      <th>40</th>\n",
       "      <td>Other-service</td>\n",
       "      <td>-0.871500</td>\n",
       "    </tr>\n",
       "    <tr>\n",
       "      <th>38</th>\n",
       "      <td>Handlers-cleaners</td>\n",
       "      <td>-0.780044</td>\n",
       "    </tr>\n",
       "    <tr>\n",
       "      <th>47</th>\n",
       "      <td>Husband</td>\n",
       "      <td>-0.768458</td>\n",
       "    </tr>\n",
       "    <tr>\n",
       "      <th>63</th>\n",
       "      <td>China</td>\n",
       "      <td>-0.755868</td>\n",
       "    </tr>\n",
       "    <tr>\n",
       "      <th>68</th>\n",
       "      <td>El-Salvador</td>\n",
       "      <td>-0.657399</td>\n",
       "    </tr>\n",
       "    <tr>\n",
       "      <th>9</th>\n",
       "      <td>10th</td>\n",
       "      <td>-0.611373</td>\n",
       "    </tr>\n",
       "    <tr>\n",
       "      <th>85</th>\n",
       "      <td>Mexico</td>\n",
       "      <td>-0.578054</td>\n",
       "    </tr>\n",
       "    <tr>\n",
       "      <th>99</th>\n",
       "      <td>Vietnam</td>\n",
       "      <td>-0.519648</td>\n",
       "    </tr>\n",
       "    <tr>\n",
       "      <th>10</th>\n",
       "      <td>11th</td>\n",
       "      <td>-0.513732</td>\n",
       "    </tr>\n",
       "    <tr>\n",
       "      <th>6</th>\n",
       "      <td>Self-emp-not-inc</td>\n",
       "      <td>-0.446704</td>\n",
       "    </tr>\n",
       "    <tr>\n",
       "      <th>7</th>\n",
       "      <td>State-gov</td>\n",
       "      <td>-0.438124</td>\n",
       "    </tr>\n",
       "    <tr>\n",
       "      <th>78</th>\n",
       "      <td>India</td>\n",
       "      <td>-0.433991</td>\n",
       "    </tr>\n",
       "    <tr>\n",
       "      <th>39</th>\n",
       "      <td>Machine-op-inspct</td>\n",
       "      <td>-0.433463</td>\n",
       "    </tr>\n",
       "    <tr>\n",
       "      <th>53</th>\n",
       "      <td>Amer-Indian-Eskimo</td>\n",
       "      <td>-0.408849</td>\n",
       "    </tr>\n",
       "    <tr>\n",
       "      <th>46</th>\n",
       "      <td>Transport-moving</td>\n",
       "      <td>-0.364812</td>\n",
       "    </tr>\n",
       "    <tr>\n",
       "      <th>55</th>\n",
       "      <td>Black</td>\n",
       "      <td>-0.356756</td>\n",
       "    </tr>\n",
       "    <tr>\n",
       "      <th>84</th>\n",
       "      <td>Laos</td>\n",
       "      <td>-0.319719</td>\n",
       "    </tr>\n",
       "    <tr>\n",
       "      <th>33</th>\n",
       "      <td>Adm-clerical</td>\n",
       "      <td>-0.304127</td>\n",
       "    </tr>\n",
       "    <tr>\n",
       "      <th>2</th>\n",
       "      <td>Local-gov</td>\n",
       "      <td>-0.298879</td>\n",
       "    </tr>\n",
       "    <tr>\n",
       "      <th>51</th>\n",
       "      <td>Unmarried</td>\n",
       "      <td>-0.228652</td>\n",
       "    </tr>\n",
       "    <tr>\n",
       "      <th>14</th>\n",
       "      <td>7th-8th</td>\n",
       "      <td>-0.207176</td>\n",
       "    </tr>\n",
       "    <tr>\n",
       "      <th>15</th>\n",
       "      <td>9th</td>\n",
       "      <td>-0.202653</td>\n",
       "    </tr>\n",
       "    <tr>\n",
       "      <th>20</th>\n",
       "      <td>HS-grad</td>\n",
       "      <td>-0.112154</td>\n",
       "    </tr>\n",
       "    <tr>\n",
       "      <th>17</th>\n",
       "      <td>Assoc-voc</td>\n",
       "      <td>-0.096249</td>\n",
       "    </tr>\n",
       "    <tr>\n",
       "      <th>4</th>\n",
       "      <td>Private</td>\n",
       "      <td>-0.091412</td>\n",
       "    </tr>\n",
       "    <tr>\n",
       "      <th>0</th>\n",
       "      <td>?</td>\n",
       "      <td>-0.043628</td>\n",
       "    </tr>\n",
       "    <tr>\n",
       "      <th>57</th>\n",
       "      <td>White</td>\n",
       "      <td>-0.041785</td>\n",
       "    </tr>\n",
       "    <tr>\n",
       "      <th>60</th>\n",
       "      <td>?</td>\n",
       "      <td>-0.021260</td>\n",
       "    </tr>\n",
       "    <tr>\n",
       "      <th>96</th>\n",
       "      <td>Thailand</td>\n",
       "      <td>-0.018245</td>\n",
       "    </tr>\n",
       "    <tr>\n",
       "      <th>24</th>\n",
       "      <td>Some-college</td>\n",
       "      <td>-0.013190</td>\n",
       "    </tr>\n",
       "  </tbody>\n",
       "</table style=\"display:inline\"><table style=\"display:inline\" border=\"1\" class=\"dataframe\">\n",
       "  <thead>\n",
       "    <tr style=\"text-align: right;\">\n",
       "      <th></th>\n",
       "      <th>features</th>\n",
       "      <th>Coef</th>\n",
       "    </tr>\n",
       "  </thead>\n",
       "  <tbody>\n",
       "    <tr>\n",
       "      <th>81</th>\n",
       "      <td>Italy</td>\n",
       "      <td>9.936466e-01</td>\n",
       "    </tr>\n",
       "    <tr>\n",
       "      <th>73</th>\n",
       "      <td>Guatemala</td>\n",
       "      <td>9.828061e-01</td>\n",
       "    </tr>\n",
       "    <tr>\n",
       "      <th>19</th>\n",
       "      <td>Doctorate</td>\n",
       "      <td>9.724167e-01</td>\n",
       "    </tr>\n",
       "    <tr>\n",
       "      <th>70</th>\n",
       "      <td>France</td>\n",
       "      <td>6.324956e-01</td>\n",
       "    </tr>\n",
       "    <tr>\n",
       "      <th>1</th>\n",
       "      <td>Federal-gov</td>\n",
       "      <td>6.203167e-01</td>\n",
       "    </tr>\n",
       "    <tr>\n",
       "      <th>36</th>\n",
       "      <td>Exec-managerial</td>\n",
       "      <td>6.010926e-01</td>\n",
       "    </tr>\n",
       "    <tr>\n",
       "      <th>27</th>\n",
       "      <td>Married-civ-spouse</td>\n",
       "      <td>5.776966e-01</td>\n",
       "    </tr>\n",
       "    <tr>\n",
       "      <th>52</th>\n",
       "      <td>Wife</td>\n",
       "      <td>5.759744e-01</td>\n",
       "    </tr>\n",
       "    <tr>\n",
       "      <th>23</th>\n",
       "      <td>Prof-school</td>\n",
       "      <td>5.737548e-01</td>\n",
       "    </tr>\n",
       "    <tr>\n",
       "      <th>89</th>\n",
       "      <td>Philippines</td>\n",
       "      <td>5.191469e-01</td>\n",
       "    </tr>\n",
       "    <tr>\n",
       "      <th>21</th>\n",
       "      <td>Masters</td>\n",
       "      <td>4.662488e-01</td>\n",
       "    </tr>\n",
       "    <tr>\n",
       "      <th>45</th>\n",
       "      <td>Tech-support</td>\n",
       "      <td>4.431949e-01</td>\n",
       "    </tr>\n",
       "    <tr>\n",
       "      <th>43</th>\n",
       "      <td>Protective-serv</td>\n",
       "      <td>4.422359e-01</td>\n",
       "    </tr>\n",
       "    <tr>\n",
       "      <th>42</th>\n",
       "      <td>Prof-specialty</td>\n",
       "      <td>3.441314e-01</td>\n",
       "    </tr>\n",
       "    <tr>\n",
       "      <th>18</th>\n",
       "      <td>Bachelors</td>\n",
       "      <td>2.874914e-01</td>\n",
       "    </tr>\n",
       "    <tr>\n",
       "      <th>71</th>\n",
       "      <td>Germany</td>\n",
       "      <td>2.704043e-01</td>\n",
       "    </tr>\n",
       "    <tr>\n",
       "      <th>103</th>\n",
       "      <td>Education-Num</td>\n",
       "      <td>1.888508e-01</td>\n",
       "    </tr>\n",
       "    <tr>\n",
       "      <th>98</th>\n",
       "      <td>United-States</td>\n",
       "      <td>1.844972e-01</td>\n",
       "    </tr>\n",
       "    <tr>\n",
       "      <th>5</th>\n",
       "      <td>Self-emp-inc</td>\n",
       "      <td>9.428357e-02</td>\n",
       "    </tr>\n",
       "    <tr>\n",
       "      <th>54</th>\n",
       "      <td>Asian-Pac-Islander</td>\n",
       "      <td>6.477141e-02</td>\n",
       "    </tr>\n",
       "    <tr>\n",
       "      <th>35</th>\n",
       "      <td>Craft-repair</td>\n",
       "      <td>3.882750e-02</td>\n",
       "    </tr>\n",
       "    <tr>\n",
       "      <th>106</th>\n",
       "      <td>hrs_per_week</td>\n",
       "      <td>3.704235e-02</td>\n",
       "    </tr>\n",
       "    <tr>\n",
       "      <th>101</th>\n",
       "      <td>age</td>\n",
       "      <td>3.029159e-02</td>\n",
       "    </tr>\n",
       "    <tr>\n",
       "      <th>69</th>\n",
       "      <td>England</td>\n",
       "      <td>2.219068e-02</td>\n",
       "    </tr>\n",
       "    <tr>\n",
       "      <th>105</th>\n",
       "      <td>capital_loss</td>\n",
       "      <td>6.473005e-04</td>\n",
       "    </tr>\n",
       "    <tr>\n",
       "      <th>104</th>\n",
       "      <td>capital_gain</td>\n",
       "      <td>2.980201e-04</td>\n",
       "    </tr>\n",
       "    <tr>\n",
       "      <th>102</th>\n",
       "      <td>fnlwgt</td>\n",
       "      <td>6.165303e-07</td>\n",
       "    </tr>\n",
       "  </tbody>\n",
       "</table style=\"display:inline\">"
      ]
     },
     "metadata": {},
     "output_type": "display_data"
    }
   ],
   "source": [
    "from IPython.display import display_html\n",
    "\n",
    "\n",
    "def display_side_by_side(*args):\n",
    "    html_str = ''\n",
    "    for df in args:\n",
    "        html_str += df.to_html()\n",
    "    display_html(html_str.replace('table', 'table style=\"display:inline\"'),\n",
    "                 raw=True)\n",
    "\n",
    "\n",
    "neg_coef = logistic_regress_coeff[\n",
    "    logistic_regress_coeff['Coef'] < 0].sort_values('Coef', ascending=True)\n",
    "pos_coef = logistic_regress_coeff[\n",
    "    logistic_regress_coeff['Coef'] > 0].sort_values('Coef', ascending=False)\n",
    "'''\n",
    "Displaying Logit Coefficients.\n",
    "Side by Side view. Left DF is negative coef, sorted by most negative first. Right is pos coefficient, sorted by most pos first\n",
    "Coeff of 0 are excluded\n",
    "'''\n",
    "\n",
    "display_side_by_side(neg_coef, pos_coef)"
   ]
  },
  {
   "cell_type": "markdown",
   "metadata": {},
   "source": [
    "## Exploring with Manual Feature Perturbation"
   ]
  },
  {
   "cell_type": "code",
   "execution_count": 11,
   "metadata": {
    "ExecuteTime": {
     "end_time": "2019-06-06T06:21:20.810333Z",
     "start_time": "2019-06-06T06:21:18.112749Z"
    },
    "scrolled": true
   },
   "outputs": [
    {
     "data": {
      "application/vnd.jupyter.widget-view+json": {
       "model_id": "e75663b30e054d10b44556dbc962ccf0",
       "version_major": 2,
       "version_minor": 0
      },
      "text/plain": [
       "interactive(children=(Dropdown(description='feature', options=('age', 'fnlwgt', 'Education-Num', 'capital_gain…"
      ]
     },
     "metadata": {},
     "output_type": "display_data"
    }
   ],
   "source": [
    "import collections\n",
    "#Manualyl perturbing features to see impact on model output\n",
    "p = Perturb(X=X_test_holdout, y=y_test_holdout,\n",
    "            data_str='uci')  #Instantiation. Leave alone\n",
    "'''\n",
    "Can only perturb continuous feats atm.\n",
    "Added interactive toggles. Select the feature and the amount you want to perturb by & see model impact\n",
    "\n",
    "'''\n",
    "\n",
    "\n",
    "@interact\n",
    "def manual_perturb_int(feature=list(X_test_holdout[continuous].columns),\n",
    "                       multiplier=1.0):\n",
    "    p.manual_perturb(column=feature, scalar=multiplier)"
   ]
  },
  {
   "cell_type": "code",
   "execution_count": 12,
   "metadata": {
    "ExecuteTime": {
     "end_time": "2019-06-06T06:21:33.864072Z",
     "start_time": "2019-06-06T06:21:29.207674Z"
    },
    "scrolled": false
   },
   "outputs": [
    {
     "data": {
      "application/vnd.jupyter.widget-view+json": {
       "model_id": "60c4cb38d7ef4a3193c7451cd643c087",
       "version_major": 2,
       "version_minor": 0
      },
      "text/plain": [
       "interactive(children=(Dropdown(description='models', options=(RandomForestClassifier(bootstrap=True, class_wei…"
      ]
     },
     "metadata": {},
     "output_type": "display_data"
    }
   ],
   "source": [
    "#Showing Samples\n",
    "'''\n",
    "perturbation graphs. \n",
    "Two modes: Accuracy & proportion.\n",
    "    'accuracy' shows the percentage of correct predictions on the holdout set as we iterate through a range of perturbations,\n",
    "    with a perturbation of 1 = no perturbation at all (scalar multiple of 1 of specified colmns).\n",
    "    'proportion' shows the percentage of observations classified as being of class 1 as we iterate through perturbations.\n",
    "    \n",
    "model: logit / rfc / gbc \n",
    "'''\n",
    "\n",
    "\n",
    "@interact\n",
    "def perturb_graph_int(models=[rfc, logit, gbc],\n",
    "                      mode=['accuracy', 'proportion'],\n",
    "                      feature=list(X_test_holdout[continuous].columns)):\n",
    "    p.perturb_graph(model=models, mode=mode, column=feature)"
   ]
  },
  {
   "cell_type": "code",
   "execution_count": 13,
   "metadata": {
    "ExecuteTime": {
     "end_time": "2019-06-06T06:21:45.617382Z",
     "start_time": "2019-06-06T06:21:39.158941Z"
    },
    "scrolled": true
   },
   "outputs": [
    {
     "data": {
      "application/vnd.jupyter.widget-view+json": {
       "model_id": "632fce10a1734a239f5587bd5f5f9f1f",
       "version_major": 2,
       "version_minor": 0
      },
      "text/plain": [
       "interactive(children=(Dropdown(description='mode', options=('accuracy', 'proportion'), value='accuracy'), Drop…"
      ]
     },
     "metadata": {},
     "output_type": "display_data"
    }
   ],
   "source": [
    "'''\n",
    "perturbation graphs continued.\n",
    "This shows the same view as above, except displays all models simulataneously.\n",
    "\n",
    "Two modes: Accuracy & proportion.\n",
    "    'accuracy' shows the percentage of correct predictions on the holdout set as we iterate through a range of perturbations,\n",
    "    with a perturbation of 1 = no perturbation at all (scalar multiple of 1 of specified colmns).\n",
    "    'proportion' shows the percentage of observations classified as being of class 1 as we iterate through perturbations.\n",
    "    \n",
    "model: logit / rfc / gbc \n",
    "\n",
    "use toggle to mode and feature in question\n",
    "\n",
    "'''\n",
    "\n",
    "\n",
    "@interact\n",
    "def perturb_graph_cons_int(mode=['accuracy', 'proportion'],\n",
    "                           feature=list(X_test_holdout[continuous].columns)):\n",
    "    p.perturb_graph_cons(mode=mode, column=feature)"
   ]
  },
  {
   "cell_type": "markdown",
   "metadata": {
    "ExecuteTime": {
     "end_time": "2019-05-21T22:04:34.830654Z",
     "start_time": "2019-05-21T22:04:34.826664Z"
    }
   },
   "source": [
    "## Lime (Local) Explanations"
   ]
  },
  {
   "cell_type": "code",
   "execution_count": 14,
   "metadata": {
    "ExecuteTime": {
     "end_time": "2019-06-06T06:21:48.406533Z",
     "start_time": "2019-06-06T06:21:47.860966Z"
    },
    "scrolled": false
   },
   "outputs": [
    {
     "data": {
      "application/vnd.jupyter.widget-view+json": {
       "model_id": "9016acbf083a49cb9495cb0389a4a1f1",
       "version_major": 2,
       "version_minor": 0
      },
      "text/plain": [
       "interactive(children=(Dropdown(description='models', options=(RandomForestClassifier(bootstrap=True, class_wei…"
      ]
     },
     "metadata": {},
     "output_type": "display_data"
    }
   ],
   "source": [
    "'''\n",
    "Local Explanations for Lime.\n",
    "Leave the train and test parameters alone, but you can adjust the model and observation parameters to see local explanations \n",
    "for various observations given various models.\n",
    "\n",
    "    I added some functionality to print some logs on the prediction confidence & accuracy.\n",
    "    use toggle to select the model and observation you want to look at\n",
    "\n",
    "'''\n",
    "\n",
    "@interact\n",
    "def explain_lime_int(models = [rfc, logit, gbc, sk_ann, keras_ann], \n",
    "                  observation = range(0,4000)):\n",
    "    explain_lime(model = models, train = X_train, test = X_test, observation=observation)\n",
    "    \n",
    "    \n",
    "#explain_lime(model = keras_ann, train = X_train, test = X_test, observation=50)\n",
    "#explain_lime(model = logit, train = X_train, test = X_test, observation=1)\n",
    "#explain_lime(model = gbc, train = X_train, test = X_test, observation=1)\n",
    "#explain_lime(model = rfc, train = X_train, test = X_test, observation=1)\n",
    "#explain_lime(model = sk_ann, train = X_train, test = X_test, observation=1)"
   ]
  },
  {
   "cell_type": "markdown",
   "metadata": {},
   "source": [
    "## Shap (Local & Global Explanations)"
   ]
  },
  {
   "cell_type": "code",
   "execution_count": 15,
   "metadata": {
    "ExecuteTime": {
     "end_time": "2019-06-06T06:21:53.320313Z",
     "start_time": "2019-06-06T06:21:52.613695Z"
    }
   },
   "outputs": [
    {
     "data": {
      "application/vnd.jupyter.widget-view+json": {
       "model_id": "172f6b25187341b9add9c8fc758dc9e2",
       "version_major": 2,
       "version_minor": 0
      },
      "text/plain": [
       "interactive(children=(Dropdown(description='models', options=(RandomForestClassifier(bootstrap=True, class_wei…"
      ]
     },
     "metadata": {},
     "output_type": "display_data"
    }
   ],
   "source": [
    "#Testing\n",
    "from helpful_util import ExplainShap\n",
    "import shap\n",
    "'''\n",
    "Local Shap Explanations\n",
    "I've instantiated with the necessary elements.\n",
    "plot.shap_local_graph will show you the additive shapley contribution to a model's prediction from the base value.\n",
    "red = Pushing the model output higher, blue, lower.\n",
    "\n",
    "\n",
    "Note: The base value shown below is the model's probability of predicting class 1 against the column-wise median\n",
    "\n",
    "Output Value == The probability of an observation being in class 1.\n",
    "\n",
    "use toggle to select the model and observation you want to look at\n",
    "\n",
    "'''\n",
    "\n",
    "plot = ExplainShap(X_train_shap, X_test_shap, models, features)\n",
    "\n",
    "shap.initjs()\n",
    "@interact\n",
    "def shap_local_int(models=[rfc, logit, gbc, sk_ann, keras_ann],\n",
    "                   observation=range(0, 4000)):\n",
    "    return plot.shap_local_graph(model=models, observation=observation)"
   ]
  },
  {
   "cell_type": "code",
   "execution_count": 16,
   "metadata": {
    "ExecuteTime": {
     "end_time": "2019-06-06T06:22:08.274090Z",
     "start_time": "2019-06-06T06:22:05.763351Z"
    }
   },
   "outputs": [
    {
     "data": {
      "application/vnd.jupyter.widget-view+json": {
       "model_id": "b08b78885b084d8fafa0e71bdc632852",
       "version_major": 2,
       "version_minor": 0
      },
      "text/plain": [
       "interactive(children=(Dropdown(description='models', options=(RandomForestClassifier(bootstrap=True, class_wei…"
      ]
     },
     "metadata": {},
     "output_type": "display_data"
    }
   ],
   "source": [
    "#Testing\n",
    "'''\n",
    "plot.shap_many_graph(model) will show an interactive mapping to visualize interaction effects vs feature values\n",
    "Kind of a consolidation of partial dependency plots\n",
    "\n",
    "use toggle to select the model's shap values you want to look at\n",
    "\n",
    "'''\n",
    "\n",
    "shap.initjs()\n",
    "@interact\n",
    "def shap_plot_many_int(models=[rfc, logit, gbc, sk_ann, keras_ann]):\n",
    "    return plot.shap_many_graph(models)"
   ]
  },
  {
   "cell_type": "code",
   "execution_count": 17,
   "metadata": {
    "ExecuteTime": {
     "end_time": "2019-06-06T06:22:20.441618Z",
     "start_time": "2019-06-06T06:22:19.270271Z"
    },
    "scrolled": false
   },
   "outputs": [
    {
     "data": {
      "application/vnd.jupyter.widget-view+json": {
       "model_id": "becc3c2b0cc34f48902685544f7c23f8",
       "version_major": 2,
       "version_minor": 0
      },
      "text/plain": [
       "interactive(children=(Dropdown(description='models', options=(RandomForestClassifier(bootstrap=True, class_wei…"
      ]
     },
     "metadata": {},
     "output_type": "display_data"
    }
   ],
   "source": [
    "#Testing\n",
    "'''\n",
    "plot.shap_summary_graph(model) will show the 'global' (More pseudo global, as we're just looking at density and ranges)\n",
    "feature importance via dotplots. \n",
    "\n",
    "For Binary Feats:\n",
    "    Say we are looking at Loan Grade: C on Logit shap values. Red means high feature value, but it has a negative model \n",
    "    contribution. e.g., for a binary feature, Loan Grade: C is true (1), then this will push the model output down.\n",
    "    If Load Grade:A is true, this will push the model output higher.\n",
    "In reference to polarity of shap values + contributions.\n",
    "\n",
    "use toggle to select the model's shap values you want to look at\n",
    "\n",
    "'''\n",
    "shap.initjs()\n",
    "\n",
    "@interact\n",
    "def shap_plot_summary_int(models=[rfc, logit, gbc, sk_ann, keras_ann]):\n",
    "    return plot.shap_summary_graph(models)"
   ]
  },
  {
   "cell_type": "code",
   "execution_count": 18,
   "metadata": {
    "ExecuteTime": {
     "end_time": "2019-06-06T06:22:27.176184Z",
     "start_time": "2019-06-06T06:22:24.381352Z"
    }
   },
   "outputs": [
    {
     "data": {
      "image/png": "[encoded data removed]",
      "text/plain": [
       "<Figure size 432x288 with 1 Axes>"
      ]
     },
     "metadata": {
      "needs_background": "light"
     },
     "output_type": "display_data"
    },
    {
     "data": {
      "image/png": "[encoded data removed]",
      "text/plain": [
       "<Figure size 432x288 with 1 Axes>"
      ]
     },
     "metadata": {
      "needs_background": "light"
     },
     "output_type": "display_data"
    },
    {
     "data": {
      "image/png": "[encoded data removed]",
      "text/plain": [
       "<Figure size 432x288 with 1 Axes>"
      ]
     },
     "metadata": {
      "needs_background": "light"
     },
     "output_type": "display_data"
    },
    {
     "data": {
      "image/png": "[encoded data removed]",
      "text/plain": [
       "<Figure size 432x288 with 1 Axes>"
      ]
     },
     "metadata": {
      "needs_background": "light"
     },
     "output_type": "display_data"
    }
   ],
   "source": [
    "'''\n",
    "Absolute and summation of shap values can be found @ obj/lendingclub/shap/ as csv files\n",
    "The below will output the top ten ranked by absolute value, and the top and bottom 5 feats. by raw magnitude.\n",
    "'''\n",
    "\n",
    "from helpful_util import display_abs_shapvalues, display_shapvalues\n",
    "\n",
    "display_abs_shapvalues(shapvalues=shap_values,\n",
    "                       features=features,\n",
    "                       num_features=10)"
   ]
  },
  {
   "cell_type": "code",
   "execution_count": 19,
   "metadata": {
    "ExecuteTime": {
     "end_time": "2019-06-06T06:22:32.728840Z",
     "start_time": "2019-06-06T06:22:29.864887Z"
    }
   },
   "outputs": [
    {
     "data": {
      "image/png": "[encoded data removed]",
      "text/plain": [
       "<Figure size 432x288 with 1 Axes>"
      ]
     },
     "metadata": {
      "needs_background": "light"
     },
     "output_type": "display_data"
    },
    {
     "data": {
      "image/png": "[encoded data removed]",
      "text/plain": [
       "<Figure size 432x288 with 1 Axes>"
      ]
     },
     "metadata": {
      "needs_background": "light"
     },
     "output_type": "display_data"
    },
    {
     "data": {
      "image/png": "[encoded data removed]",
      "text/plain": [
       "<Figure size 432x288 with 1 Axes>"
      ]
     },
     "metadata": {
      "needs_background": "light"
     },
     "output_type": "display_data"
    },
    {
     "data": {
      "image/png": "[encoded data removed]",
      "text/plain": [
       "<Figure size 432x288 with 1 Axes>"
      ]
     },
     "metadata": {
      "needs_background": "light"
     },
     "output_type": "display_data"
    }
   ],
   "source": [
    "'''\n",
    "For neural network below...\n",
    "I believe we see the magnitudes in the negative direction lower here due to the low base value. Again,\n",
    "Base value was computed as the probability of class 1 over the median of the columns in the train data.\n",
    "This ended up being a predicted probability of ~6%. \n",
    "Because Shap is pred - baseline & our baseline is so low, it makes sense that there would be more push toward a more positive\n",
    "model output - Atleast, that's what I'm thinking\n",
    "\n",
    "'''\n",
    "\n",
    "display_shapvalues(shapvalues=shap_values, features=features, n=10)"
   ]
  },
  {
   "cell_type": "markdown",
   "metadata": {},
   "source": [
    "## Working with Integrated Gradients"
   ]
  },
  {
   "cell_type": "code",
   "execution_count": 20,
   "metadata": {
    "ExecuteTime": {
     "end_time": "2019-06-06T06:22:38.631499Z",
     "start_time": "2019-06-06T06:22:38.622523Z"
    },
    "scrolled": true
   },
   "outputs": [],
   "source": [
    "#save_obj(keras_ig_df, 'keras_ig_df')\n",
    "'''\n",
    "#Leave Commented out. Code to generate integrated gradients attributions\n",
    "from collections import OrderedDict\n",
    "\n",
    "from IntegratedGradients import IntegratedGradients\n",
    "\n",
    "ig = IntegratedGradients.integrated_gradients(keras_ann)\n",
    "\n",
    "\n",
    "def fetch_grads(test_data):\n",
    "    grads = []\n",
    "    for i in test_data.toarray():\n",
    "        grads.append(ig.explain(i, num_steps=1000))\n",
    "    return pd.DataFrame(grads, columns=features)\n",
    "\n",
    "\n",
    "keras_ig_df = fetch_grads(encoded_test)\n",
    "save_obj(keras_ig_df, 'data_objects/keras_ig_df')\n",
    "\n",
    "'''\n",
    "\n",
    "keras_ig_df = load_obj('data_objects/keras_ig_df')"
   ]
  },
  {
   "cell_type": "code",
   "execution_count": 21,
   "metadata": {
    "ExecuteTime": {
     "end_time": "2019-06-06T06:22:43.261462Z",
     "start_time": "2019-06-06T06:22:40.768746Z"
    },
    "scrolled": false
   },
   "outputs": [
    {
     "data": {
      "application/vnd.jupyter.widget-view+json": {
       "model_id": "8160801358874d89883623f28513b4d0",
       "version_major": 2,
       "version_minor": 0
      },
      "text/plain": [
       "interactive(children=(Dropdown(description='features', options=('age', 'fnlwgt', 'Education-Num', 'capital_gai…"
      ]
     },
     "metadata": {},
     "output_type": "display_data"
    },
    {
     "data": {
      "image/png": "[encoded data removed]",
      "text/plain": [
       "<Figure size 576x576 with 1 Axes>"
      ]
     },
     "metadata": {
      "needs_background": "light"
     },
     "output_type": "display_data"
    }
   ],
   "source": [
    "#Show integrated gradients of only continuous features\n",
    "rcParams['figure.figsize'] = 8, 8\n",
    "\n",
    "\n",
    "@interact\n",
    "def shap_plot_summary_int(features=list(keras_ig_df[continuous].columns),\n",
    "                          theme=list(cf.themes.THEMES.keys()),\n",
    "                          colorscale=list(cf.colors._scales_names.keys())):\n",
    "\n",
    "    return keras_ig_df[features].iplot(\n",
    "        kind='area',\n",
    "        theme=theme,\n",
    "        xTitle='Observation',\n",
    "        yTitle='Integrated Grad Value',\n",
    "        title='Integrated Grad Value vs Observation, Feature: {}'.format(\n",
    "            features),\n",
    "        colorscale=colorscale)\n",
    "\n",
    "\n",
    "df_sns = keras_ig_df.iloc[:, -15:].melt(var_name='groups', value_name='vals')\n",
    "sns.stripplot(x=\"vals\", y=\"groups\", data=df_sns)\n",
    "plt.xlabel('Integrated Gradient')\n",
    "plt.ylabel('Feature')\n",
    "plt.show()"
   ]
  },
  {
   "cell_type": "markdown",
   "metadata": {},
   "source": [
    "## DeepExplain - Shapley/Saliency maps/Gradient * Input"
   ]
  },
  {
   "cell_type": "code",
   "execution_count": 23,
   "metadata": {
    "ExecuteTime": {
     "end_time": "2019-06-06T06:22:59.343041Z",
     "start_time": "2019-06-06T06:22:57.161176Z"
    },
    "scrolled": false
   },
   "outputs": [
    {
     "data": {
      "image/png": "[encoded data removed]",
      "text/plain": [
       "<Figure size 576x576 with 1 Axes>"
      ]
     },
     "metadata": {
      "needs_background": "light"
     },
     "output_type": "display_data"
    },
    {
     "data": {
      "image/png": "[encoded data removed]",
      "text/plain": [
       "<Figure size 576x576 with 1 Axes>"
      ]
     },
     "metadata": {
      "needs_background": "light"
     },
     "output_type": "display_data"
    },
    {
     "data": {
      "image/png": "[encoded data removed]",
      "text/plain": [
       "<Figure size 576x576 with 1 Axes>"
      ]
     },
     "metadata": {
      "needs_background": "light"
     },
     "output_type": "display_data"
    }
   ],
   "source": [
    "#Attributions computed over training set\n",
    "attributions_gradin = load_obj('attributions_gradin')\n",
    "attributions_sal = load_obj('attributions_sal')\n",
    "attributions_elrp = load_obj('attributions_elrp')\n",
    "attributions_sv = load_obj('attributions_sv')\n",
    "\n",
    "deep_df = pd.DataFrame(attributions_gradin, columns=features)\n",
    "deep_df = deep_df.iloc[:, -15:].melt(var_name='groups', value_name='vals')\n",
    "ax = sns.stripplot(x=\"vals\", y=\"groups\", data=deep_df, jitter=.5)\n",
    "plt.xlim(-1000, 1000)\n",
    "plt.title('Grad * Input Attributions')\n",
    "plt.show()\n",
    "\n",
    "\n",
    "\n",
    "deep_df = pd.DataFrame(attributions_sal, columns=features)\n",
    "deep_df = deep_df.iloc[:, -15:].melt(var_name='groups', value_name='vals')\n",
    "ax = sns.stripplot(x=\"vals\", y=\"groups\", data=deep_df, jitter=.5)\n",
    "plt.title('Saliency Map Attributions')\n",
    "plt.show()\n",
    "\n",
    "deep_df = pd.DataFrame(attributions_elrp, columns=features)\n",
    "deep_df = deep_df.iloc[:, -15:].melt(var_name='groups', value_name='vals')\n",
    "ax = sns.stripplot(x=\"vals\", y=\"groups\", data=deep_df, jitter=.5)\n",
    "plt.title('Layerwise Relevance Prop Attributions')\n",
    "plt.show()"
   ]
  },
  {
   "cell_type": "markdown",
   "metadata": {},
   "source": [
    "## GAM"
   ]
  },
  {
   "cell_type": "code",
   "execution_count": 4,
   "metadata": {
    "ExecuteTime": {
     "end_time": "2019-06-02T23:10:40.422187Z",
     "start_time": "2019-06-02T23:10:39.665185Z"
    },
    "scrolled": true
   },
   "outputs": [],
   "source": [
    "#def shap_to_csv(model, file_name):\n",
    "#    local = pd.DataFrame(shap_values[str(type(model))],\n",
    "#                             columns=features)\n",
    "#    local.to_csv('obj/census/gam/{}_local.csv'.format(file_name),index=False)\n",
    "    \n",
    "#shap_to_csv(gbc, 'gbc')\n",
    "#shap_to_csv(logit, 'logit')\n",
    "#shap_to_csv(keras_ann, 'keras_ann')\n",
    "#shap_to_csv(rfc, 'rfc')\n",
    "\n",
    "\n"
   ]
  },
  {
   "cell_type": "code",
   "execution_count": 24,
   "metadata": {
    "ExecuteTime": {
     "end_time": "2019-06-06T06:23:02.417130Z",
     "start_time": "2019-06-06T06:23:02.391200Z"
    }
   },
   "outputs": [],
   "source": [
    "'''\n",
    "local shap values for all models are stored in the obj folder\n",
    "change attributions_path based on which model you want to evaluate\n",
    "    obj/rfc_local.csv\n",
    "    obj/keras_ann_local.csv\n",
    "    obj/gbc_local.csv\n",
    "    obj/logit_local.csv\n",
    "\n",
    "'''\n",
    "\n",
    "from gam.gam.gam import GAM\n",
    "\n",
    "#gam_keras =  GAM(attributions_path=\"obj/census/gam/keras_ann_local.csv\", k=2)\n",
    "#gam_logit = GAM(attributions_path=\"obj/census/gam/logit_local.csv\", k=2)\n",
    "#gam_rfc = GAM(attributions_path=\"obj/census/gam/rfc_local.csv\", k=2)\n",
    "#gam_gbc = GAM(attributions_path=\"obj/census/gam/gbc_local.csv\", k=2)\n",
    "\n",
    "\n",
    "#gam_keras.generate()\n",
    "#gam_logit.generate()\n",
    "#gam_rfc.generate()\n",
    "#gam_gbc.generate()\n",
    "\n"
   ]
  },
  {
   "cell_type": "code",
   "execution_count": 25,
   "metadata": {
    "ExecuteTime": {
     "end_time": "2019-06-06T06:23:04.359054Z",
     "start_time": "2019-06-06T06:23:04.082282Z"
    }
   },
   "outputs": [
    {
     "name": "stdout",
     "output_type": "stream",
     "text": [
      "\t\t\t\tShowing GAM Explanation #1\n"
     ]
    },
    {
     "data": {
      "text/html": [
       "<table border=\"1\" class=\"dataframe\">\n",
       "  <thead>\n",
       "    <tr style=\"text-align: right;\">\n",
       "      <th></th>\n",
       "      <th>features</th>\n",
       "      <th>Feature Importance</th>\n",
       "    </tr>\n",
       "  </thead>\n",
       "  <tbody>\n",
       "    <tr>\n",
       "      <th>105</th>\n",
       "      <td>capital_loss</td>\n",
       "      <td>0.728092</td>\n",
       "    </tr>\n",
       "    <tr>\n",
       "      <th>101</th>\n",
       "      <td>age</td>\n",
       "      <td>0.240795</td>\n",
       "    </tr>\n",
       "    <tr>\n",
       "      <th>46</th>\n",
       "      <td>Transport-moving</td>\n",
       "      <td>0.030388</td>\n",
       "    </tr>\n",
       "    <tr>\n",
       "      <th>102</th>\n",
       "      <td>fnlwgt</td>\n",
       "      <td>0.000437</td>\n",
       "    </tr>\n",
       "    <tr>\n",
       "      <th>24</th>\n",
       "      <td>Some-college</td>\n",
       "      <td>0.000288</td>\n",
       "    </tr>\n",
       "  </tbody>\n",
       "</table>"
      ],
      "text/plain": [
       "<IPython.core.display.HTML object>"
      ]
     },
     "metadata": {},
     "output_type": "display_data"
    },
    {
     "data": {
      "image/png": "[encoded data removed]",
      "text/plain": [
       "<Figure size 576x576 with 1 Axes>"
      ]
     },
     "metadata": {
      "needs_background": "light"
     },
     "output_type": "display_data"
    },
    {
     "name": "stdout",
     "output_type": "stream",
     "text": [
      "----------------------------------------------------------------------------------------------------\n",
      "----------------------------------------------------------------------------------------------------\n",
      "\t\t\t\tShowing GAM Explanation #2\n"
     ]
    },
    {
     "data": {
      "text/html": [
       "<table border=\"1\" class=\"dataframe\">\n",
       "  <thead>\n",
       "    <tr style=\"text-align: right;\">\n",
       "      <th></th>\n",
       "      <th>features</th>\n",
       "      <th>Feature Importance</th>\n",
       "    </tr>\n",
       "  </thead>\n",
       "  <tbody>\n",
       "    <tr>\n",
       "      <th>27</th>\n",
       "      <td>Married-civ-spouse</td>\n",
       "      <td>0.196518</td>\n",
       "    </tr>\n",
       "    <tr>\n",
       "      <th>47</th>\n",
       "      <td>Husband</td>\n",
       "      <td>0.160748</td>\n",
       "    </tr>\n",
       "    <tr>\n",
       "      <th>48</th>\n",
       "      <td>Not-in-family</td>\n",
       "      <td>0.148488</td>\n",
       "    </tr>\n",
       "    <tr>\n",
       "      <th>25</th>\n",
       "      <td>Divorced</td>\n",
       "      <td>0.124359</td>\n",
       "    </tr>\n",
       "    <tr>\n",
       "      <th>102</th>\n",
       "      <td>fnlwgt</td>\n",
       "      <td>0.120211</td>\n",
       "    </tr>\n",
       "    <tr>\n",
       "      <th>36</th>\n",
       "      <td>Exec-managerial</td>\n",
       "      <td>0.087401</td>\n",
       "    </tr>\n",
       "    <tr>\n",
       "      <th>58</th>\n",
       "      <td>Female</td>\n",
       "      <td>0.081921</td>\n",
       "    </tr>\n",
       "    <tr>\n",
       "      <th>59</th>\n",
       "      <td>Male</td>\n",
       "      <td>0.078330</td>\n",
       "    </tr>\n",
       "    <tr>\n",
       "      <th>24</th>\n",
       "      <td>Some-college</td>\n",
       "      <td>0.002022</td>\n",
       "    </tr>\n",
       "  </tbody>\n",
       "</table>"
      ],
      "text/plain": [
       "<IPython.core.display.HTML object>"
      ]
     },
     "metadata": {},
     "output_type": "display_data"
    },
    {
     "data": {
      "image/png": "[encoded data removed]",
      "text/plain": [
       "<Figure size 576x576 with 1 Axes>"
      ]
     },
     "metadata": {
      "needs_background": "light"
     },
     "output_type": "display_data"
    }
   ],
   "source": [
    "'''\n",
    "Reload GAM objects + Plot all feature importance metrics for each of the explanations.\n",
    "Plot shows: Top 2 Clusters and their top features\n",
    "\n",
    "https://github.com/capitalone/global-attribution-mapping\n",
    "'''\n",
    "from IPython.display import display, HTML\n",
    "gam_keras = load_obj('/gam/gam_keras')\n",
    "\n",
    "print('\\t\\t\\t\\tShowing GAM Explanation #1')\n",
    "gam_nn_df = pd.DataFrame(gam_keras.explanations[0],\n",
    "                         columns=['features', 'Feature Importance'\n",
    "                                  ]).sort_values(by='Feature Importance',\n",
    "                                                 ascending=False)\n",
    "gam_nn_df = gam_nn_df[gam_nn_df['Feature Importance'] > 0]\n",
    "display(HTML(gam_nn_df.to_html()))\n",
    "sns.barplot(gam_nn_df['Feature Importance'], gam_nn_df['features'])\n",
    "plt.title('GAM Neural Network Explanation 1')\n",
    "plt.show()\n",
    "\n",
    "print('-' * 100)\n",
    "print('-' * 100)\n",
    "\n",
    "print('\\t\\t\\t\\tShowing GAM Explanation #2')\n",
    "gam_nn_df = pd.DataFrame(gam_keras.explanations[1],\n",
    "                         columns=['features', 'Feature Importance'\n",
    "                                  ]).sort_values(by='Feature Importance',\n",
    "                                                 ascending=False)\n",
    "gam_nn_df = gam_nn_df[gam_nn_df['Feature Importance'] > 0]\n",
    "display(HTML(gam_nn_df.to_html()))\n",
    "sns.barplot(gam_nn_df['Feature Importance'], gam_nn_df['features'])\n",
    "plt.title('GAM Neural Network Explanation 2')\n",
    "plt.show()"
   ]
  },
  {
   "cell_type": "code",
   "execution_count": 26,
   "metadata": {
    "ExecuteTime": {
     "end_time": "2019-06-06T06:23:26.598495Z",
     "start_time": "2019-06-06T06:23:26.387038Z"
    }
   },
   "outputs": [
    {
     "data": {
      "image/png": "[encoded data removed]",
      "text/plain": [
       "<Figure size 576x576 with 1 Axes>"
      ]
     },
     "metadata": {},
     "output_type": "display_data"
    }
   ],
   "source": [
    "labels = ['Subpopulation #1', 'Subpopulation #2']\n",
    "sizes = [gam_keras.subpopulation_sizes[0] / sum(gam_keras.subpopulation_sizes) *100,\n",
    "            gam_keras.subpopulation_sizes[1] / sum(gam_keras.subpopulation_sizes) *100]\n",
    "explode = (0.1, 0.0)\n",
    "fig1, ax1 = plt.subplots()\n",
    "\n",
    "ax1.pie(sizes, explode=explode, labels=labels, autopct='%1.1f%%',\n",
    "        shadow=True, startangle=90)\n",
    "ax1.axis('equal') \n",
    "plt.title('Proportion of Test Set Belong to each Sub Population')\n",
    "plt.show()"
   ]
  }
 ],
 "metadata": {
  "kernelspec": {
   "display_name": "Python 3",
   "language": "python",
   "name": "python3"
  },
  "language_info": {
   "codemirror_mode": {
    "name": "ipython",
    "version": 3
   },
   "file_extension": ".py",
   "mimetype": "text/x-python",
   "name": "python",
   "nbconvert_exporter": "python",
   "pygments_lexer": "ipython3",
   "version": "3.7.0"
  }
 },
 "nbformat": 4,
 "nbformat_minor": 2
}
