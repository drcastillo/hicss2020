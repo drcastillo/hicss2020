{
 "cells": [
  {
   "cell_type": "code",
   "execution_count": 1,
   "metadata": {
    "collapsed": false
   },
   "outputs": [
    {
     "name": "stderr",
     "output_type": "stream",
     "text": [
      "Using TensorFlow backend.\n"
     ]
    }
   ],
   "source": [
    "import numpy as np\n",
    "\n",
    "import sys\n",
    "\n",
    "import numpy as np\n",
    "from time import sleep\n",
    "import sys\n",
    "import keras.backend as K\n",
    "\n",
    "from keras.models import Model, Sequential\n",
    "import matplotlib.pyplot as plt\n",
    "import seaborn as sns"
   ]
  },
  {
   "cell_type": "code",
   "execution_count": 2,
   "metadata": {
    "collapsed": false
   },
   "outputs": [
    {
     "name": "stdout",
     "output_type": "stream",
     "text": [
      "Extracting MNIST_data/train-images-idx3-ubyte.gz\n",
      "Extracting MNIST_data/train-labels-idx1-ubyte.gz\n",
      "Extracting MNIST_data/t10k-images-idx3-ubyte.gz\n",
      "Extracting MNIST_data/t10k-labels-idx1-ubyte.gz\n",
      "(55000, 28, 14, 1)\n"
     ]
    }
   ],
   "source": [
    "# MNIST DATA\n",
    "from tensorflow.examples.tutorials.mnist import input_data\n",
    "mnist = input_data.read_data_sets(\"MNIST_data/\", one_hot=True)\n",
    "\n",
    "X = np.expand_dims(mnist.train._images.reshape(55000,28, 28), 3)\n",
    "Y = mnist.train._labels\n",
    "\n",
    "X1 = X[:,:,:14]\n",
    "X2 = X[:,:,14:]\n",
    "\n",
    "print X1.shape"
   ]
  },
  {
   "cell_type": "markdown",
   "metadata": {},
   "source": [
    "# Double input stream MNIST"
   ]
  },
  {
   "cell_type": "markdown",
   "metadata": {},
   "source": [
    "keras.Sequential"
   ]
  },
  {
   "cell_type": "code",
   "execution_count": 3,
   "metadata": {
    "collapsed": false
   },
   "outputs": [
    {
     "name": "stderr",
     "output_type": "stream",
     "text": [
      "/home/hiranumn/anaconda2/lib/python2.7/site-packages/ipykernel/__main__.py:21: UserWarning: The `Merge` layer is deprecated and will be removed after 08/2017. Use instead layers from `keras.layers.merge`, e.g. `add`, `concatenate`, etc.\n"
     ]
    }
   ],
   "source": [
    "import keras\n",
    "from keras.models import Sequential\n",
    "from keras.layers import Dense, Merge, Conv2D, Dropout, MaxPooling2D, Flatten\n",
    "\n",
    "model1_left = Sequential()\n",
    "model1_left.add(Conv2D(32, kernel_size=(3, 3),\n",
    "                 activation='relu',\n",
    "                 input_shape=(28, 14, 1))) # (28, 28, 1) for tf and (1, 28, 28) for theano\n",
    "model1_left.add(Conv2D(64, (3, 3), activation='relu'))\n",
    "model1_left.add(MaxPooling2D(pool_size=(2, 2)))\n",
    "model1_left.add(Dropout(0.25))\n",
    "\n",
    "model1_right = Sequential()\n",
    "model1_right.add(Conv2D(32, kernel_size=(3, 3),\n",
    "                 activation='relu',\n",
    "                 input_shape=(28, 14, 1))) # (28, 28, 1) for tf and (1, 28, 28) for theano\n",
    "model1_right.add(Conv2D(64, (3, 3), activation='relu'))\n",
    "model1_right.add(MaxPooling2D(pool_size=(2, 2)))\n",
    "model1_right.add(Dropout(0.25))\n",
    "\n",
    "merged = Merge([model1_left, model1_right], mode='concat')\n",
    "\n",
    "model1 = Sequential()\n",
    "model1.add(merged)\n",
    "model1.add(Flatten())\n",
    "model1.add(Dense(128, activation='relu'))\n",
    "model1.add(Dropout(0.5))\n",
    "model1.add(Dense(10, activation='softmax'))\n",
    "model1.compile(optimizer='sgd', loss='categorical_crossentropy')"
   ]
  },
  {
   "cell_type": "code",
   "execution_count": 4,
   "metadata": {
    "collapsed": false
   },
   "outputs": [
    {
     "data": {
      "text/plain": [
       "<keras.callbacks.History at 0x7f1393b99450>"
      ]
     },
     "execution_count": 4,
     "metadata": {},
     "output_type": "execute_result"
    }
   ],
   "source": [
    "model1.fit([X1, X2], Y, epochs=15, batch_size=128, verbose=0)"
   ]
  },
  {
   "cell_type": "code",
   "execution_count": 5,
   "metadata": {
    "collapsed": false
   },
   "outputs": [],
   "source": [
    "predicted1 = model1.predict([X1, X2])"
   ]
  },
  {
   "cell_type": "code",
   "execution_count": 6,
   "metadata": {
    "collapsed": false
   },
   "outputs": [
    {
     "name": "stdout",
     "output_type": "stream",
     "text": [
      "prediction: 7\n"
     ]
    },
    {
     "data": {
      "image/png": "[encoded data removed]",
      "text/plain": [
       "<matplotlib.figure.Figure at 0x7f1393b1d210>"
      ]
     },
     "metadata": {},
     "output_type": "display_data"
    }
   ],
   "source": [
    "index = 0\n",
    "\n",
    "print \"prediction:\", np.argmax(predicted1[index])\n",
    "plt.figure(figsize=(1,2))\n",
    "plt.subplot(1, 2, 1)\n",
    "plt.imshow(X1[index, :, :, 0])\n",
    "plt.xticks([],[])\n",
    "plt.yticks([],[])\n",
    "\n",
    "plt.subplot(1, 2, 2)\n",
    "plt.imshow(X2[index, :, :, 0])\n",
    "plt.xticks([],[])\n",
    "plt.yticks([],[])\n",
    "plt.show()"
   ]
  },
  {
   "cell_type": "markdown",
   "metadata": {},
   "source": [
    "keras.model"
   ]
  },
  {
   "cell_type": "code",
   "execution_count": null,
   "metadata": {
    "collapsed": false
   },
   "outputs": [],
   "source": [
    "import keras\n",
    "from keras.models import Sequential\n",
    "from keras.layers import Dense, Merge, Input\n",
    "\n",
    "l_in = Input(shape=(28, 14, 1), )\n",
    "l = Conv2D(32, kernel_size=(3, 3), activation='relu')(l_in)\n",
    "l = Conv2D(64, (3, 3), activation='relu')(l)\n",
    "l = MaxPooling2D(pool_size=(2, 2))(l)\n",
    "l = Dropout(0.25)(l)\n",
    "\n",
    "l2_in = Input(shape=(28, 14, 1), )\n",
    "l2 = Conv2D(32, kernel_size=(3, 3), activation='relu') (l2_in)\n",
    "l2 = Conv2D(64, (3, 3), activation='relu')(l2)\n",
    "l2 = MaxPooling2D(pool_size=(2, 2))(l2)\n",
    "l2 = Dropout(0.25)(l2)\n",
    "\n",
    "x = keras.layers.concatenate([l, l2])\n",
    "\n",
    "x = Flatten()(x)\n",
    "x = Dense(128, activation='relu')(x)\n",
    "x = Dropout(0.5)(x)\n",
    "x_out = Dense(10, activation='softmax')(x)\n",
    "\n",
    "model2 = Model(inputs=[l_in, l2_in], outputs=x_out)\n",
    "model2.compile(optimizer='sgd', loss='categorical_crossentropy')"
   ]
  },
  {
   "cell_type": "code",
   "execution_count": null,
   "metadata": {
    "collapsed": false
   },
   "outputs": [],
   "source": [
    "model2.fit([X1, X2], Y, epochs=15, batch_size=128, verbose=0)"
   ]
  },
  {
   "cell_type": "code",
   "execution_count": null,
   "metadata": {
    "collapsed": false
   },
   "outputs": [],
   "source": [
    "predicted2 = model2.predict([X1, X2])"
   ]
  },
  {
   "cell_type": "code",
   "execution_count": null,
   "metadata": {
    "collapsed": false
   },
   "outputs": [],
   "source": [
    "index = 0\n",
    "\n",
    "print \"prediction:\", np.argmax(predicted2[index])\n",
    "plt.figure(figsize=(1,2))\n",
    "plt.subplot(1, 2, 1)\n",
    "plt.imshow(X1[index, :, :, 0])\n",
    "plt.xticks([],[])\n",
    "plt.yticks([],[])\n",
    "\n",
    "plt.subplot(1, 2, 2)\n",
    "plt.imshow(X2[index, :, :, 0])\n",
    "plt.xticks([],[])\n",
    "plt.yticks([],[])\n",
    "plt.show()"
   ]
  },
  {
   "cell_type": "markdown",
   "metadata": {},
   "source": [
    "# Integrated gradients code"
   ]
  },
  {
   "cell_type": "code",
   "execution_count": null,
   "metadata": {
    "collapsed": false
   },
   "outputs": [],
   "source": [
    "################################################################\n",
    "# Implemented by Naozumi Hiranuma (hiranumn@uw.edu)            #\n",
    "#                                                              #\n",
    "# Kears-compatible implmentation of Integrated Gradients       # \n",
    "# proposed in \"Axiomatic attribution for deep neuron networks\" #\n",
    "# (https://arxiv.org/abs/1703.01365).                          #\n",
    "#                                                              #\n",
    "# Keywords: Shapley values, interpretable machine learning     #\n",
    "################################################################\n",
    "import numpy as np\n",
    "from time import sleep\n",
    "import sys\n",
    "import keras.backend as K\n",
    "\n",
    "from keras.models import Model, Sequential\n",
    "\n",
    "'''\n",
    "Integrated gradients approximates Shapley values by integrating partial\n",
    "gradients with respect to input features from reference input to the\n",
    "actual input. The following class implements this concept.\n",
    "'''\n",
    "class integrated_gradients:\n",
    "    # model: Keras model that you wish to explain.\n",
    "    # outchannels: In case the model are multi tasking, you can specify which channels you want.\n",
    "    def __init__(self, model, outchannels=[], verbose=1):\n",
    "    \n",
    "        # Bacnend: either tensorflow or theano)\n",
    "        self.backend = K.backend()\n",
    "        \n",
    "        #load model supports keras.Model and keras.Sequential\n",
    "        if isinstance(model, Sequential):\n",
    "            self.model = model.model\n",
    "        elif isinstance(model, Model):\n",
    "            self.model = model\n",
    "        else:\n",
    "            print \"Invalid input model\"\n",
    "            return -1\n",
    "        \n",
    "        #load input tensors\n",
    "        self.input_tensors = []\n",
    "        for i in self.model.inputs:\n",
    "            self.input_tensors.append(i)\n",
    "        # The learning phase flag is a bool tensor (0 = test, 1 = train)\n",
    "        # to be passed as input to any Keras function that uses \n",
    "        # a different behavior at train time and test time.\n",
    "        self.input_tensors.append(K.learning_phase())\n",
    "        \n",
    "        #If outputchanel is specified, use it.\n",
    "        #Otherwise evalueate all outputs.\n",
    "        self.outchannels = outchannels\n",
    "        if len(self.outchannels) == 0: \n",
    "            if verbose: print \"Evaluated output channel (0-based index): All\"\n",
    "            if K.backend() == \"tensorflow\":\n",
    "                self.outchannels = range(self.model.output.shape[1]._value)\n",
    "            elif K.backend() == \"theano\":\n",
    "                self.outchannels = range(model1.output._keras_shape[1])\n",
    "        else:\n",
    "            if verbose: \n",
    "                print \"Evaluated output channels (0-based index):\", \n",
    "                for i in self.outchannels: print i\n",
    "                print\n",
    "                \n",
    "        #Build gradient functions for desired output channels.\n",
    "        self.get_gradients = {}\n",
    "        if verbose: print \"Building gradient functions\"\n",
    "        \n",
    "            # Evaluate over all channels.\n",
    "        for c in self.outchannels:\n",
    "            # Get tensor that calcuates gradient\n",
    "            if K.backend() == \"tensorflow\":\n",
    "                gradients = self.model.optimizer.get_gradients(self.model.output[:, c], self.model.input)\n",
    "            if K.backend() == \"theano\":\n",
    "                gradients = self.model.optimizer.get_gradients(self.model.output[:, c].sum(), self.model.input)\n",
    "                \n",
    "            # Build computational graph that calculates the tensfor given inputs\n",
    "            self.get_gradients[c] = K.function(inputs=self.input_tensors, outputs=gradients)\n",
    "            \n",
    "            # This takes a lot of time for a big model with many tasks.\n",
    "            # So lets pring the progress.\n",
    "            if verbose:\n",
    "                sys.stdout.write('\\r')\n",
    "                sys.stdout.write(\"Progress: \"+str(int((c+1)*1.0/len(self.outchannels)*1000)*1.0/10)+\"%\")\n",
    "                sys.stdout.flush()\n",
    "        # Done\n",
    "        if verbose: print \"\\nDone.\"\n",
    "            \n",
    "                \n",
    "    '''\n",
    "    Input: sample to explain, channel to explain\n",
    "    Optional inputs:\n",
    "        - reference: reference values (defaulted to 0s).\n",
    "        - steps: # steps from reference values to the actual sample.\n",
    "    Output: list of numpy arrays to integrated over.\n",
    "    '''\n",
    "    def explain(self, sample, outc=0, reference=False, num_steps=50, verbose=0):\n",
    "        \n",
    "        # Each element for each input stream.\n",
    "        samples = []\n",
    "        numsteps = []\n",
    "        step_sizes = []\n",
    "        \n",
    "        # If multiple inputs are present, feed them as list of np arrays. \n",
    "        if isinstance(sample, list):\n",
    "            #If reference is present, reference and sample size need to be equal.\n",
    "            if reference != False: \n",
    "                assert len(sample) == len(reference)\n",
    "            for i in range(len(sample)):\n",
    "                if reference == False:\n",
    "                    _output = integrated_gradients.linearly_interpolate(sample[i], False, num_steps)\n",
    "                else:\n",
    "                    _output = integrated_gradients.linearly_interpolate(sample[i], False, num_steps)\n",
    "                samples.append(_output[0])\n",
    "                numsteps.append(_output[1])\n",
    "                step_sizes.append(_output[2])\n",
    "        \n",
    "        # Or you can feed just a single numpy arrray. \n",
    "        elif isinstance(sample, np.ndarray):\n",
    "            _output = integrated_gradients.linearly_interpolate(sample, reference, num_steps)\n",
    "            samples.append(_output[0])\n",
    "            numsteps.append(_output[1])\n",
    "            step_sizes.append(_output[2])\n",
    "            \n",
    "        # Desired channel must be in the list of outputchannels\n",
    "        assert outc in self.outchannels\n",
    "        if verbose: print \"Explaning the \"+str(self.outchannels[outc])+\"th output.\"\n",
    "            \n",
    "        # For tensorflow backend\n",
    "        _input = []\n",
    "        for s in samples:\n",
    "            _input.append(s)\n",
    "        _input.append(0)\n",
    "        \n",
    "        if K.backend() == \"tensorflow\": \n",
    "            gradients = self.get_gradients[outc](_input)\n",
    "        elif K.backend() == \"theano\":\n",
    "            gradients = self.get_gradients[outc](_input)\n",
    "            if len(self.model.inputs) == 1:\n",
    "                gradients = [gradients]\n",
    "        \n",
    "        explanation = []\n",
    "        for i in range(len(gradients)):\n",
    "            _temp = np.sum(gradients[i], axis=0)\n",
    "            explanation.append(np.multiply(_temp, step_sizes[i]))\n",
    "            \n",
    "\n",
    "        if isinstance(sample, list):\n",
    "            return explanation\n",
    "        elif isinstance(sample, np.ndarray):\n",
    "            return explanation[0]\n",
    "        return -1\n",
    "\n",
    "    \n",
    "    '''\n",
    "    Input: numpy array of a sample\n",
    "    Optional inputs:\n",
    "        - reference: reference values (defaulted to 0s).\n",
    "        - steps: # steps from reference values to the actual sample.\n",
    "    Output: list of numpy arrays to integrated over.\n",
    "    '''\n",
    "    @staticmethod\n",
    "    def linearly_interpolate(sample, reference=False, num_steps=50):\n",
    "        # Use default reference values if reference is not specified\n",
    "        if reference is False: reference = np.zeros(sample.shape);\n",
    "\n",
    "        # Reference and sample shape needs to match exactly\n",
    "        assert sample.shape == reference.shape\n",
    "\n",
    "        # Calcuated stepwise difference from reference to the actual sample.\n",
    "        ret = np.zeros(tuple([num_steps] +[i for i in sample.shape]))\n",
    "        for s in range(num_steps):\n",
    "            ret[s] = reference+(sample-reference)*(s*1.0/num_steps)\n",
    "\n",
    "        return ret, num_steps, (sample-reference)*(1.0/num_steps)"
   ]
  },
  {
   "cell_type": "code",
   "execution_count": null,
   "metadata": {
    "collapsed": false
   },
   "outputs": [],
   "source": [
    "ig1 = integrated_gradients(model1)"
   ]
  },
  {
   "cell_type": "code",
   "execution_count": null,
   "metadata": {
    "collapsed": false
   },
   "outputs": [],
   "source": [
    "index = np.random.randint(55000)\n",
    "pred = np.argmax(predicted1[index])\n",
    "print \"prediction:\", pred\n",
    "\n",
    "ex = ig1.explain([X1[index, :, :, :], X2[index, :, :, :]], outc=pred)\n",
    "th = max(np.abs(np.min([np.min(ex[0]), np.min(ex[1])])), np.abs(np.max([np.max(ex[0]), np.max(ex[1])])))\n",
    "\n",
    "plt.figure(figsize=(1,2))\n",
    "plt.subplot(1, 2, 1)\n",
    "plt.imshow(ex[0][:,:,0], cmap=\"seismic\", vmin=-1*th, vmax=th)\n",
    "plt.xticks([],[])\n",
    "plt.yticks([],[])\n",
    "\n",
    "plt.subplot(1, 2, 2)\n",
    "plt.imshow(ex[1][:,:,0], cmap=\"seismic\", vmin=-1*th, vmax=th)\n",
    "plt.xticks([],[])\n",
    "plt.yticks([],[])\n",
    "plt.show()"
   ]
  },
  {
   "cell_type": "code",
   "execution_count": null,
   "metadata": {
    "collapsed": false
   },
   "outputs": [],
   "source": [
    "ig2 = integrated_gradients(model2)"
   ]
  },
  {
   "cell_type": "code",
   "execution_count": null,
   "metadata": {
    "collapsed": false
   },
   "outputs": [],
   "source": [
    "index = np.random.randint(55000)\n",
    "pred = np.argmax(predicted2[index])\n",
    "print \"prediction:\", pred\n",
    "\n",
    "ex = ig2.explain([X1[index, :, :, :], X2[index, :, :, :]], outc=pred)\n",
    "th = max(np.abs(np.min([np.min(ex[0]), np.min(ex[1])])), np.abs(np.max([np.max(ex[0]), np.max(ex[1])])))\n",
    "\n",
    "plt.figure(figsize=(1,2))\n",
    "plt.subplot(1, 2, 1)\n",
    "plt.imshow(ex[0][:,:,0], cmap=\"seismic\", vmin=-1*th, vmax=th)\n",
    "plt.xticks([],[])\n",
    "plt.yticks([],[])\n",
    "\n",
    "plt.subplot(1, 2, 2)\n",
    "plt.imshow(ex[1][:,:,0], cmap=\"seismic\", vmin=-1*th, vmax=th)\n",
    "plt.xticks([],[])\n",
    "plt.yticks([],[])\n",
    "plt.show()"
   ]
  },
  {
   "cell_type": "code",
   "execution_count": null,
   "metadata": {
    "collapsed": true
   },
   "outputs": [],
   "source": []
  }
 ],
 "metadata": {
  "kernelspec": {
   "display_name": "Python 2",
   "language": "python",
   "name": "python2"
  },
  "language_info": {
   "codemirror_mode": {
    "name": "ipython",
    "version": 2
   },
   "file_extension": ".py",
   "mimetype": "text/x-python",
   "name": "python",
   "nbconvert_exporter": "python",
   "pygments_lexer": "ipython2",
   "version": "2.7.13"
  }
 },
 "nbformat": 4,
 "nbformat_minor": 2
}
