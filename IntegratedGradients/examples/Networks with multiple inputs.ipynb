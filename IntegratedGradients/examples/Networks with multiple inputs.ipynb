{
 "cells": [
  {
   "cell_type": "code",
   "execution_count": 17,
   "metadata": {
    "collapsed": false
   },
   "outputs": [],
   "source": [
    "import numpy as np\n",
    "\n",
    "import sys\n",
    "\n",
    "import numpy as np\n",
    "from time import sleep\n",
    "import sys\n",
    "import keras.backend as K\n",
    "\n",
    "from keras.models import Model, Sequential\n",
    "import matplotlib.pyplot as plt\n",
    "\n",
    "import sys\n",
    "sys.path.append(\"../\")\n",
    "from IntegratedGradients import *"
   ]
  },
  {
   "cell_type": "code",
   "execution_count": 2,
   "metadata": {
    "collapsed": false
   },
   "outputs": [
    {
     "name": "stdout",
     "output_type": "stream",
     "text": [
      "Successfully downloaded train-images-idx3-ubyte.gz 9912422 bytes.\n",
      "Extracting MNIST_data/train-images-idx3-ubyte.gz\n",
      "Successfully downloaded train-labels-idx1-ubyte.gz 28881 bytes.\n",
      "Extracting MNIST_data/train-labels-idx1-ubyte.gz\n",
      "Successfully downloaded t10k-images-idx3-ubyte.gz 1648877 bytes.\n",
      "Extracting MNIST_data/t10k-images-idx3-ubyte.gz\n",
      "Successfully downloaded t10k-labels-idx1-ubyte.gz 4542 bytes.\n",
      "Extracting MNIST_data/t10k-labels-idx1-ubyte.gz\n",
      "(55000, 28, 14, 1)\n"
     ]
    }
   ],
   "source": [
    "# MNIST DATA\n",
    "from tensorflow.examples.tutorials.mnist import input_data\n",
    "mnist = input_data.read_data_sets(\"MNIST_data/\", one_hot=True)\n",
    "\n",
    "X = np.expand_dims(mnist.train._images.reshape(55000,28, 28), 3)\n",
    "Y = mnist.train._labels\n",
    "\n",
    "X1 = X[:,:,:14]\n",
    "X2 = X[:,:,14:]\n",
    "\n",
    "print X1.shape"
   ]
  },
  {
   "cell_type": "markdown",
   "metadata": {},
   "source": [
    "# When you have a network with multiple inputs\n",
    "\n",
    "We have MNIST images split in half as inputs to two CNN arms. "
   ]
  },
  {
   "cell_type": "markdown",
   "metadata": {},
   "source": [
    "Step 1: Define and train a model"
   ]
  },
  {
   "cell_type": "code",
   "execution_count": 5,
   "metadata": {
    "collapsed": true
   },
   "outputs": [],
   "source": [
    "import keras\n",
    "from keras.models import Sequential\n",
    "from keras.layers import Dense, Merge, Conv2D, Dropout, MaxPooling2D, Flatten, Input"
   ]
  },
  {
   "cell_type": "code",
   "execution_count": 6,
   "metadata": {
    "collapsed": false
   },
   "outputs": [],
   "source": [
    "l_in = Input(shape=(28, 14, 1), )\n",
    "l = Conv2D(32, kernel_size=(3, 3), activation='relu')(l_in)\n",
    "l = Conv2D(64, (3, 3), activation='relu')(l)\n",
    "l = MaxPooling2D(pool_size=(2, 2))(l)\n",
    "l = Dropout(0.25)(l)\n",
    "\n",
    "l2_in = Input(shape=(28, 14, 1), )\n",
    "l2 = Conv2D(32, kernel_size=(3, 3), activation='relu') (l2_in)\n",
    "l2 = Conv2D(64, (3, 3), activation='relu')(l2)\n",
    "l2 = MaxPooling2D(pool_size=(2, 2))(l2)\n",
    "l2 = Dropout(0.25)(l2)\n",
    "\n",
    "x = keras.layers.concatenate([l, l2])\n",
    "\n",
    "x = Flatten()(x)\n",
    "x = Dense(128, activation='relu')(x)\n",
    "x = Dropout(0.5)(x)\n",
    "x_out = Dense(10, activation='softmax')(x)\n",
    "\n",
    "model = Model(inputs=[l_in, l2_in], outputs=x_out)\n",
    "model.compile(optimizer='sgd', loss='categorical_crossentropy')"
   ]
  },
  {
   "cell_type": "code",
   "execution_count": 7,
   "metadata": {
    "collapsed": false
   },
   "outputs": [
    {
     "data": {
      "text/plain": [
       "<keras.callbacks.History at 0x7ff15b6d5c10>"
      ]
     },
     "execution_count": 7,
     "metadata": {},
     "output_type": "execute_result"
    }
   ],
   "source": [
    "model.fit([X1, X2], Y, epochs=15, batch_size=128, verbose=0)"
   ]
  },
  {
   "cell_type": "code",
   "execution_count": 8,
   "metadata": {
    "collapsed": true
   },
   "outputs": [],
   "source": [
    "predicted = model.predict([X1, X2])"
   ]
  },
  {
   "cell_type": "markdown",
   "metadata": {},
   "source": [
    "Step 2: Wrap it with integrated gradients."
   ]
  },
  {
   "cell_type": "code",
   "execution_count": 13,
   "metadata": {
    "collapsed": false
   },
   "outputs": [
    {
     "name": "stdout",
     "output_type": "stream",
     "text": [
      "Evaluated output channel (0-based index): All\n",
      "Building gradient functions\n",
      "Progress: 100.0%\n",
      "Done.\n"
     ]
    }
   ],
   "source": [
    "ig = integrated_gradients(model)"
   ]
  },
  {
   "cell_type": "markdown",
   "metadata": {},
   "source": [
    "Step3: Use explain function to explain. Feed a pair of samples as a list of NumPy ndarrays just like when you train. "
   ]
  },
  {
   "cell_type": "code",
   "execution_count": 19,
   "metadata": {
    "collapsed": false
   },
   "outputs": [
    {
     "name": "stdout",
     "output_type": "stream",
     "text": [
      "prediction: 7\n"
     ]
    },
    {
     "data": {
      "image/png": "[encoded data removed]",
      "text/plain": [
       "<matplotlib.figure.Figure at 0x7ff162cadc50>"
      ]
     },
     "metadata": {},
     "output_type": "display_data"
    }
   ],
   "source": [
    "index = np.random.randint(55000)\n",
    "pred = np.argmax(predicted[index])\n",
    "print \"prediction:\", pred\n",
    "\n",
    "################# Calling Explain() function #############################\n",
    "ex = ig.explain([X1[index, :, :, :], X2[index, :, :, :]], outc=pred)\n",
    "##########################################################################\n",
    "\n",
    "th = max(np.abs(np.min([np.min(ex[0]), np.min(ex[1])])), np.abs(np.max([np.max(ex[0]), np.max(ex[1])])))\n",
    "\n",
    "plt.figure(figsize=(1,2))\n",
    "plt.subplot(1, 2, 1)\n",
    "plt.imshow(ex[0][:,:,0], cmap=\"seismic\", vmin=-1*th, vmax=th)\n",
    "plt.xticks([],[])\n",
    "plt.yticks([],[])\n",
    "\n",
    "plt.subplot(1, 2, 2)\n",
    "plt.imshow(ex[1][:,:,0], cmap=\"seismic\", vmin=-1*th, vmax=th)\n",
    "plt.xticks([],[])\n",
    "plt.yticks([],[])\n",
    "plt.show()"
   ]
  }
 ],
 "metadata": {
  "kernelspec": {
   "display_name": "Python 2",
   "language": "python",
   "name": "python2"
  },
  "language_info": {
   "codemirror_mode": {
    "name": "ipython",
    "version": 2
   },
   "file_extension": ".py",
   "mimetype": "text/x-python",
   "name": "python",
   "nbconvert_exporter": "python",
   "pygments_lexer": "ipython2",
   "version": "2.7.13"
  }
 },
 "nbformat": 4,
 "nbformat_minor": 2
}
