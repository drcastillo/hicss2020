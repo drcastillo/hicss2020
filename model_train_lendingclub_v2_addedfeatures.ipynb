{
 "cells": [
  {
   "cell_type": "markdown",
   "metadata": {},
   "source": [
    "# Working ipynb for explainability in machine learning \n",
    "\n",
    "- main goal is to delineate model explainability between Shap, Lime and GAM\n",
    "- This will act as a shell file on the Austrailian Credit Approval Data until Cap One data is readily available"
   ]
  },
  {
   "cell_type": "markdown",
   "metadata": {},
   "source": [
    "## Model Building"
   ]
  },
  {
   "cell_type": "markdown",
   "metadata": {},
   "source": [
    "Imports. Clean up later"
   ]
  },
  {
   "cell_type": "code",
   "execution_count": 2,
   "metadata": {
    "ExecuteTime": {
     "end_time": "2019-05-30T20:10:16.651162Z",
     "start_time": "2019-05-30T20:10:13.640422Z"
    }
   },
   "outputs": [
    {
     "name": "stderr",
     "output_type": "stream",
     "text": [
      "Using TensorFlow backend.\n"
     ]
    },
    {
     "data": {
      "text/plain": [
       "[name: \"/device:CPU:0\"\n",
       " device_type: \"CPU\"\n",
       " memory_limit: 268435456\n",
       " locality {\n",
       " }\n",
       " incarnation: 647360743561589188, name: \"/device:GPU:0\"\n",
       " device_type: \"GPU\"\n",
       " memory_limit: 6590074061\n",
       " locality {\n",
       "   bus_id: 1\n",
       "   links {\n",
       "   }\n",
       " }\n",
       " incarnation: 3628298667062804377\n",
       " physical_device_desc: \"device: 0, name: GeForce RTX 2080, pci bus id: 0000:01:00.0, compute capability: 7.5\", name: \"/device:GPU:1\"\n",
       " device_type: \"GPU\"\n",
       " memory_limit: 6700198133\n",
       " locality {\n",
       "   bus_id: 1\n",
       "   links {\n",
       "   }\n",
       " }\n",
       " incarnation: 4869333295175662036\n",
       " physical_device_desc: \"device: 1, name: GeForce GTX 1070, pci bus id: 0000:02:00.0, compute capability: 6.1\"]"
      ]
     },
     "execution_count": 2,
     "metadata": {},
     "output_type": "execute_result"
    }
   ],
   "source": [
    "from __future__ import print_function\n",
    "from helpful_util import *\n",
    "from heaton_utils import *\n",
    "\n",
    "#import seaborn as sns\n",
    "#import pandas_profiling\n",
    "#from pylab import rcParams\n",
    "#import matplotlib.pyplot as plt\n",
    "import pandas as pd\n",
    "import numpy as np\n",
    "\n",
    "import warnings\n",
    "warnings.filterwarnings('ignore')\n",
    "\n",
    "from collections import Counter\n",
    "\n",
    "import sklearn\n",
    "from sklearn.ensemble import RandomForestClassifier, GradientBoostingClassifier\n",
    "from sklearn.linear_model import LogisticRegression\n",
    "from sklearn.model_selection import GridSearchCV, cross_val_score, StratifiedKFold, learning_curve\n",
    "from sklearn.model_selection import train_test_split\n",
    "from sklearn.preprocessing import MinMaxScaler\n",
    "\n",
    "from livelossplot import PlotLossesKeras\n",
    "from tensorflow.python.client import device_lib\n",
    "from keras.losses import binary_crossentropy\n",
    "\n",
    "import os\n",
    "import sys\n",
    "import glob\n",
    "import pickle\n",
    "\n",
    "import tensorflow as tf\n",
    "import keras\n",
    "from keras.models import Model\n",
    "from keras.layers import Flatten, Dense, Input\n",
    "from keras.utils import layer_utils\n",
    "from keras import backend as K\n",
    "from keras.engine.topology import get_source_inputs\n",
    "from keras.models import load_model\n",
    "from keras.models import model_from_json\n",
    "from keras.models import Sequential\n",
    "from keras.layers import Dense, Activation, Dropout, Flatten\n",
    "from keras.optimizers import SGD, adam, adamax, Adam, RMSprop\n",
    "from keras.layers.normalization import BatchNormalization\n",
    "from keras.layers.advanced_activations import LeakyReLU, ReLU, ELU\n",
    "from keras.losses import binary_crossentropy\n",
    "from keras.utils import multi_gpu_model\n",
    "\n",
    "from sklearn.neural_network import MLPClassifier\n",
    "from sklearn.neural_network import multilayer_perceptron\n",
    "import xgboost\n",
    "import pandas_profiling\n",
    "from pylab import rcParams\n",
    "import seaborn as sns\n",
    "rcParams['figure.figsize'] = 7,7  #Adjust plot size\n",
    "\n",
    "device_lib.list_local_devices(\n",
    ")  #See available devices. If Running a Keras model, session to GPU"
   ]
  },
  {
   "cell_type": "code",
   "execution_count": 163,
   "metadata": {
    "ExecuteTime": {
     "end_time": "2019-05-30T21:11:43.653695Z",
     "start_time": "2019-05-30T21:11:43.649707Z"
    }
   },
   "outputs": [],
   "source": [
    "def save_obj(obj, name):\n",
    "    import pickle\n",
    "    with open('obj/lendingclub_v2/' + name + '.pkl', 'wb') as f:\n",
    "        pickle.dump(obj, f, pickle.HIGHEST_PROTOCOL)\n",
    "\n",
    "\n",
    "def load_obj(name):\n",
    "    import pickle\n",
    "    with open('obj/lendingclub_v2/' + name + '.pkl', 'rb') as f:\n",
    "        return pickle.load(f)"
   ]
  },
  {
   "cell_type": "code",
   "execution_count": 96,
   "metadata": {
    "ExecuteTime": {
     "end_time": "2019-05-30T20:44:19.037053Z",
     "start_time": "2019-05-30T20:43:15.157704Z"
    }
   },
   "outputs": [],
   "source": [
    "df = pd.read_csv('loan.csv', low_memory=False)\n",
    "df = df.dropna(axis=1, thresh=int(0.80 * len(df)))\n",
    "df = df.dropna(thresh=0)"
   ]
  },
  {
   "cell_type": "code",
   "execution_count": 98,
   "metadata": {
    "ExecuteTime": {
     "end_time": "2019-05-30T20:44:26.409010Z",
     "start_time": "2019-05-30T20:44:24.649722Z"
    }
   },
   "outputs": [],
   "source": [
    "bad_loan = [\"Charged Off\", \"Default\", \"Does not meet the credit policy. Status:Charged Off\", \"In Grace Period\", \n",
    "            \"Late (16-30 days)\", \"Late (31-120 days)\"]\n",
    "\n",
    "\n",
    "df['loan_condition'] = np.nan\n",
    "\n",
    "def loan_condition(status):\n",
    "    if status in bad_loan:\n",
    "        return 0\n",
    "    else:\n",
    "        return 1\n",
    "    \n",
    "    \n",
    "df['loan_condition'] = df['loan_status'].apply(loan_condition)\n",
    "\n",
    "df_good = df[df['loan_condition'] == 1][:10000] #DownSample\n",
    "df_bad = df[df['loan_condition'] ==0][:10000]"
   ]
  },
  {
   "cell_type": "code",
   "execution_count": 154,
   "metadata": {
    "ExecuteTime": {
     "end_time": "2019-05-30T20:58:58.848832Z",
     "start_time": "2019-05-30T20:58:58.686202Z"
    }
   },
   "outputs": [],
   "source": [
    "df = pd.concat([df_good,df_bad])\n",
    "cat_feats = ['grade', 'sub_grade',  'home_ownership',\n",
    "'title', 'loan_condition'\n",
    "]\n",
    "\n",
    "df_contin = df.loc[:, df.dtypes == np.float64]\n",
    "df_cat = df.loc[:, df.dtypes != np.float64]\n",
    "df_cat = df_cat[cat_feats]\n",
    "df1 = pd.concat([df_contin,df_cat])\n",
    "\n",
    "\n",
    "cols = df1.columns.tolist()\n",
    "column_to_move = \"loan_condition\"\n",
    "new_position = 66\n",
    "\n",
    "cols.insert(new_position, cols.pop(cols.index(column_to_move)))\n",
    "df1 = df[cols]\n",
    "df1 = df1.fillna(0)"
   ]
  },
  {
   "cell_type": "code",
   "execution_count": 156,
   "metadata": {
    "ExecuteTime": {
     "end_time": "2019-05-30T20:59:08.319087Z",
     "start_time": "2019-05-30T20:59:08.054794Z"
    },
    "scrolled": true
   },
   "outputs": [],
   "source": [
    "#g = sns.heatmap(df.corr(), annot=True, fmt=\".2f\", cmap=\"coolwarm\")\n",
    "\n",
    "#X_train, X_test, y_train, y_test = split_data(\n",
    "#    df=df,\n",
    "#    keras=False,  #Use binary vector for response, no OHE\n",
    "#    testSize=0.3,\n",
    "#    randomState=123)\n",
    "\n",
    "\n",
    "#Cleaning data per the Lime docs. The way I did it initially gave nonsensical results because of the category mapping\n",
    "#We need to first encode the cat feaures and then one hot encode them using sklearn.preprocessing\n",
    "\n",
    "\n",
    "feature_names = df.columns\n",
    "\n",
    "\n",
    "data = np.array(df1)\n",
    "y = data[:,-1] #response var\n",
    "le= sklearn.preprocessing.LabelEncoder() #instantiate label encoder\n",
    "le.fit(y) #fit label encoder to response\n",
    "y = le.transform(y) #encode response\n",
    "class_names = le.classes_ #get class names of response\n",
    "data = data[:,:-1] #Get all Independent Vars\n",
    "\n",
    "categorical_features = []\n",
    "counter = 0\n",
    "for i in df1.dtypes:\n",
    "    if i == object:\n",
    "        categorical_features.append(counter)\n",
    "    counter +=1\n",
    "        \n",
    "        \n",
    "categorical_names = {}\n",
    "for feature in categorical_features:\n",
    "    le = sklearn.preprocessing.LabelEncoder() #instantiate label encoder\n",
    "    le.fit(data[:, feature]) #fit label encoder to categorical features\n",
    "    data[:, feature] = le.transform(data[:, feature]) #transform categorical features\n",
    "    categorical_names[feature] = le.classes_ #get categorical feature class names and append to dict\n",
    "\n",
    "X = data.astype(float) \n",
    "encoder = sklearn.preprocessing.OneHotEncoder(categorical_features=categorical_features) #instantiate OHE\n",
    "\n",
    "np.random.seed(1)\n",
    "X_train, X_test, y_train, y_test = sklearn.model_selection.train_test_split(X, y, train_size=0.80, stratify = y) #split data\n",
    "\n",
    "encoder.fit(data) #OHE Categorical Columns\n",
    "encoded_train = encoder.transform(X_train) #Encode Training Set\n",
    "encoded_test = encoder.transform(X_test)\n",
    "y_train_keras = y_train\n",
    "\n"
   ]
  },
  {
   "cell_type": "code",
   "execution_count": 157,
   "metadata": {
    "ExecuteTime": {
     "end_time": "2019-05-30T20:59:26.361584Z",
     "start_time": "2019-05-30T20:59:26.201931Z"
    }
   },
   "outputs": [],
   "source": [
    "encoder.fit(data) #OHE Categorical Columns\n",
    "encoded_train = encoder.transform(X_train) #Encode Training Set\n",
    "encoded_test = encoder.transform(X_test)\n",
    "y_train_keras = y_train"
   ]
  },
  {
   "cell_type": "code",
   "execution_count": 164,
   "metadata": {
    "ExecuteTime": {
     "end_time": "2019-05-30T21:12:06.090040Z",
     "start_time": "2019-05-30T21:12:05.982294Z"
    }
   },
   "outputs": [],
   "source": [
    "save_obj(X_train, 'X_train')\n",
    "save_obj(X_test, 'X_test')\n",
    "save_obj(y_train, 'y_train')\n",
    "save_obj(y_test, 'y_test')\n",
    "save_obj(encoded_train, 'encoded_train')\n",
    "save_obj(encoded_test, 'encoded_test')\n",
    "save_obj(categorical_names, 'categorical_names')\n",
    "save_obj(encoder, 'encoder')\n",
    "save_obj(df1, 'data')\n",
    "\n",
    "X_train = load_obj('X_train')\n",
    "X_test = load_obj('X_test')\n",
    "y_train = load_obj('y_train')\n",
    "y_test = load_obj('y_test')\n",
    "\n",
    "encoded_train = load_obj('encoded_train')\n",
    "encoded_test = load_obj('encoded_test')\n",
    "categorical_names = load_obj('categorical_names')\n",
    "data = load_obj('data')\n",
    "encoder = load_obj('encoder')"
   ]
  },
  {
   "cell_type": "code",
   "execution_count": 159,
   "metadata": {
    "ExecuteTime": {
     "end_time": "2019-05-30T21:00:19.452412Z",
     "start_time": "2019-05-30T20:59:47.878886Z"
    }
   },
   "outputs": [
    {
     "data": {
      "image/png": "[encoded data removed]",
      "text/plain": [
       "<Figure size 360x360 with 1 Axes>"
      ]
     },
     "metadata": {
      "needs_background": "light"
     },
     "output_type": "display_data"
    }
   ],
   "source": [
    "rcParams['figure.figsize'] = 5, 5  #Adjust plot size\n",
    "\n",
    "# Cross validate model with Kfold stratified cross val\n",
    "kfold = StratifiedKFold(n_splits=3)\n",
    "\n",
    "#Run Kfold CrossVal on base classifiers\n",
    "\n",
    "random_state = 1\n",
    "classifiers = []\n",
    "classifiers.append(RandomForestClassifier(random_state=random_state))\n",
    "classifiers.append(GradientBoostingClassifier(random_state=random_state))\n",
    "classifiers.append(LogisticRegression(random_state=random_state))\n",
    "classifiers.append(MLPClassifier(random_state=random_state))\n",
    "\n",
    "\n",
    "cv_results = []\n",
    "for classifier in classifiers:\n",
    "    cv_results.append(\n",
    "        cross_val_score(classifier,\n",
    "                        encoded_train,\n",
    "                        y=y_train,\n",
    "                        scoring=\"accuracy\",\n",
    "                        cv=kfold,\n",
    "                        n_jobs=6))\n",
    "\n",
    "cv_means = []\n",
    "cv_std = []\n",
    "for cv_result in cv_results:\n",
    "    cv_means.append(cv_result.mean())\n",
    "    cv_std.append(cv_result.std())\n",
    "\n",
    "cv_res = pd.DataFrame({\n",
    "    \"CrossValMeans\":\n",
    "    cv_means,\n",
    "    \"CrossValerrors\":\n",
    "    cv_std,\n",
    "    \"Algorithm\": [\"RandomForest\", \"GradientBoosting\", \"LogisticRegression\", \"Neural Network\"]\n",
    "})\n",
    "\n",
    "g = sns.barplot(\"CrossValMeans\",\n",
    "                \"Algorithm\",\n",
    "                data=cv_res,\n",
    "                palette=\"Set3\",\n",
    "                orient=\"h\",\n",
    "                **{'xerr': cv_std})\n",
    "g.set_xlabel(\"Mean Accuracy\")\n",
    "g = g.set_title(\"Cross validation scores\")"
   ]
  },
  {
   "cell_type": "code",
   "execution_count": 160,
   "metadata": {
    "ExecuteTime": {
     "end_time": "2019-05-30T21:10:44.316159Z",
     "start_time": "2019-05-30T21:01:26.589950Z"
    },
    "scrolled": true
   },
   "outputs": [
    {
     "name": "stdout",
     "output_type": "stream",
     "text": [
      "Fitting 3 folds for each of 2 candidates, totalling 6 fits\n"
     ]
    },
    {
     "name": "stderr",
     "output_type": "stream",
     "text": [
      "[Parallel(n_jobs=6)]: Using backend LokyBackend with 6 concurrent workers.\n",
      "[Parallel(n_jobs=6)]: Done   2 out of   6 | elapsed:   12.4s remaining:   24.9s\n",
      "[Parallel(n_jobs=6)]: Done   6 out of   6 | elapsed:   19.8s finished\n"
     ]
    },
    {
     "name": "stdout",
     "output_type": "stream",
     "text": [
      "Fitting 3 folds for each of 2 candidates, totalling 6 fits\n"
     ]
    },
    {
     "name": "stderr",
     "output_type": "stream",
     "text": [
      "[Parallel(n_jobs=6)]: Using backend LokyBackend with 6 concurrent workers.\n",
      "[Parallel(n_jobs=6)]: Done   2 out of   6 | elapsed:  1.4min remaining:  2.8min\n",
      "[Parallel(n_jobs=6)]: Done   6 out of   6 | elapsed:  2.6min finished\n"
     ]
    },
    {
     "name": "stdout",
     "output_type": "stream",
     "text": [
      "Fitting 3 folds for each of 2 candidates, totalling 6 fits\n"
     ]
    },
    {
     "name": "stderr",
     "output_type": "stream",
     "text": [
      "[Parallel(n_jobs=6)]: Using backend LokyBackend with 6 concurrent workers.\n",
      "[Parallel(n_jobs=6)]: Done   2 out of   6 | elapsed:    5.5s remaining:   11.1s\n",
      "[Parallel(n_jobs=6)]: Done   6 out of   6 | elapsed:   35.1s finished\n"
     ]
    },
    {
     "name": "stdout",
     "output_type": "stream",
     "text": [
      "Fitting 3 folds for each of 1 candidates, totalling 3 fits\n"
     ]
    },
    {
     "name": "stderr",
     "output_type": "stream",
     "text": [
      "[Parallel(n_jobs=6)]: Using backend LokyBackend with 6 concurrent workers.\n",
      "[Parallel(n_jobs=6)]: Done   3 out of   3 | elapsed:   25.0s finished\n"
     ]
    },
    {
     "name": "stdout",
     "output_type": "stream",
     "text": [
      "\u001b[1mPrinting Best Cross Validation Accuracy.... \u001b[0m\n",
      "RF Best Score: 93.44 %\n",
      "GBC Best Score: 95.00 %\n",
      "Logit Best Score: 91.01 %\n",
      "MLP Best Score: 84.82 %\n"
     ]
    },
    {
     "name": "stderr",
     "output_type": "stream",
     "text": [
      "C:\\Users\\jdine\\AppData\\Roaming\\Python\\Python37\\site-packages\\sklearn\\neural_network\\multilayer_perceptron.py:568: UserWarning: Training interrupted by user.\n",
      "  warnings.warn(\"Training interrupted by user.\")\n"
     ]
    }
   ],
   "source": [
    "#Grid Search parameter space.\n",
    "#Cut back on this due to experimentation and compute time\n",
    "\n",
    "# RFC Parameters tunning\n",
    "RFC = RandomForestClassifier()\n",
    "\n",
    "## Search grid for optimal parameters\n",
    "rf_param_grid = {\n",
    "    \"n_estimators\": [150,250]\n",
    "    #\"max_features\": [1, 2, 3, 4, 5, 6, 7, 8,9,10],\n",
    "    #\"bootstrap\": [False],\n",
    "}\n",
    "\n",
    "gsRFC = GridSearchCV(RFC,\n",
    "                     param_grid=rf_param_grid,\n",
    "                     cv=kfold,\n",
    "                     scoring=\"accuracy\",\n",
    "                     n_jobs=6,\n",
    "                     verbose=1)\n",
    "gsRFC.fit(encoded_train, y_train)\n",
    "\n",
    "# Gradient boosting tunning\n",
    "GBC = GradientBoostingClassifier()\n",
    "gb_param_grid = {\n",
    "    'n_estimators': [1000,2000]\n",
    "    #'learning_rate': [.001],\n",
    "    #'max_depth': [4, 8, 12],\n",
    "}\n",
    "\n",
    "gsGBC = GridSearchCV(GBC,\n",
    "                     param_grid=gb_param_grid,\n",
    "                     cv=kfold,\n",
    "                     scoring=\"accuracy\",\n",
    "                     n_jobs=6,\n",
    "                     verbose=1)\n",
    "gsGBC.fit(encoded_train, y_train)\n",
    "\n",
    "#Sklearn Logit Regression Tuning\n",
    "LR = LogisticRegression()\n",
    "LR_param_grid = {'penalty': ['l1', 'l2']}\n",
    "\n",
    "gsLR = GridSearchCV(LR,\n",
    "                    param_grid=LR_param_grid,\n",
    "                    cv=kfold,\n",
    "                    scoring=\"accuracy\",\n",
    "                    n_jobs=6,\n",
    "                    verbose=1)\n",
    "gsLR.fit(encoded_train, y_train)\n",
    "\n",
    "ANN = MLPClassifier()\n",
    "\n",
    "## Search grid for optimal parameters\n",
    "ann_param_grid = {\n",
    "    \"hidden_layer_sizes\": [150],\n",
    "    \"activation\": ['relu'],\n",
    "    \"solver\": ['adam'],\n",
    "    \"learning_rate\": ['adaptive'],\n",
    "    \n",
    "\n",
    "}\n",
    "\n",
    "gsAnn = GridSearchCV(ANN,\n",
    "                     param_grid=ann_param_grid,\n",
    "                     cv=kfold,\n",
    "                     scoring=\"accuracy\",\n",
    "                     n_jobs=6,\n",
    "                     verbose=1)\n",
    "gsAnn.fit(encoded_train, y_train)\n",
    "\n",
    "# Best score\n",
    "print(\"\\033[1mPrinting Best Cross Validation Accuracy.... \\033[0m\")\n",
    "print(\"RF Best Score: {0:.2f} %\".format(gsRFC.best_score_ * 100))\n",
    "print(\"GBC Best Score: {0:.2f} %\".format(gsGBC.best_score_ * 100))\n",
    "print(\"Logit Best Score: {0:.2f} %\".format(gsLR.best_score_ * 100))\n",
    "print(\"MLP Best Score: {0:.2f} %\".format(gsAnn.best_score_ * 100))"
   ]
  },
  {
   "cell_type": "code",
   "execution_count": 165,
   "metadata": {
    "ExecuteTime": {
     "end_time": "2019-05-30T21:14:38.759392Z",
     "start_time": "2019-05-30T21:14:38.590834Z"
    }
   },
   "outputs": [
    {
     "name": "stdout",
     "output_type": "stream",
     "text": [
      "Model Hyper-Parameters:\n",
      "\n",
      "RandomForestClassifier(bootstrap=True, class_weight=None, criterion='gini',\n",
      "                       max_depth=None, max_features='auto', max_leaf_nodes=None,\n",
      "                       min_impurity_decrease=0.0, min_impurity_split=None,\n",
      "                       min_samples_leaf=1, min_samples_split=2,\n",
      "                       min_weight_fraction_leaf=0.0, n_estimators=250,\n",
      "                       n_jobs=None, oob_score=False, random_state=None,\n",
      "                       verbose=0, warm_start=False)\n",
      "GradientBoostingClassifier(criterion='friedman_mse', init=None,\n",
      "                           learning_rate=0.1, loss='deviance', max_depth=3,\n",
      "                           max_features=None, max_leaf_nodes=None,\n",
      "                           min_impurity_decrease=0.0, min_impurity_split=None,\n",
      "                           min_samples_leaf=1, min_samples_split=2,\n",
      "                           min_weight_fraction_leaf=0.0, n_estimators=2000,\n",
      "                           n_iter_no_change=None, presort='auto',\n",
      "                           random_state=None, subsample=1.0, tol=0.0001,\n",
      "                           validation_fraction=0.1, verbose=0,\n",
      "                           warm_start=False)\n",
      "LogisticRegression(C=1.0, class_weight=None, dual=False, fit_intercept=True,\n",
      "                   intercept_scaling=1, l1_ratio=None, max_iter=100,\n",
      "                   multi_class='warn', n_jobs=None, penalty='l1',\n",
      "                   random_state=None, solver='warn', tol=0.0001, verbose=0,\n",
      "                   warm_start=False)\n",
      "MLPClassifier(activation='relu', alpha=0.0001, batch_size='auto', beta_1=0.9,\n",
      "              beta_2=0.999, early_stopping=False, epsilon=1e-08,\n",
      "              hidden_layer_sizes=150, learning_rate='adaptive',\n",
      "              learning_rate_init=0.001, max_iter=200, momentum=0.9,\n",
      "              n_iter_no_change=10, nesterovs_momentum=True, power_t=0.5,\n",
      "              random_state=None, shuffle=True, solver='adam', tol=0.0001,\n",
      "              validation_fraction=0.1, verbose=False, warm_start=False)\n",
      "Serializing Best Models\n",
      "\n"
     ]
    },
    {
     "data": {
      "text/plain": [
       "['models\\\\LendingClub_v2\\\\SklearnNeuralNet.pkl']"
      ]
     },
     "execution_count": 165,
     "metadata": {},
     "output_type": "execute_result"
    }
   ],
   "source": [
    "#Visualizing hyper params of best models + dumping best models to pkl\n",
    "\n",
    "print(\"Model Hyper-Parameters:\\n\")\n",
    "print(gsRFC.best_estimator_)\n",
    "print(gsGBC.best_estimator_)\n",
    "print(gsLR.best_estimator_)\n",
    "print(gsAnn.best_estimator_)\n",
    "import pickle\n",
    "from sklearn.externals import joblib\n",
    "\n",
    "print(\"Serializing Best Models\\n\")\n",
    "rf_file = \"models\\\\LendingClub_v2\\\\random_forest.pkl\"\n",
    "joblib.dump(gsRFC.best_estimator_, rf_file)\n",
    "\n",
    "gbc_file = \"models\\\\LendingClub_v2\\\\GBC.pkl\"\n",
    "joblib.dump(gsGBC.best_estimator_, gbc_file)\n",
    "\n",
    "logit_file = \"models\\\\LendingClub_v2\\\\Logit.pkl\"\n",
    "joblib.dump(gsLR.best_estimator_, logit_file)\n",
    "\n",
    "ann_file = \"models\\\\LendingClub_v2\\\\SklearnNeuralNet.pkl\"\n",
    "joblib.dump(gsAnn.best_estimator_, ann_file)\n",
    "#Note - Outliers were removed, but no features were scaled / normalized."
   ]
  },
  {
   "cell_type": "code",
   "execution_count": 166,
   "metadata": {
    "ExecuteTime": {
     "end_time": "2019-05-30T21:14:49.326690Z",
     "start_time": "2019-05-30T21:14:49.182990Z"
    }
   },
   "outputs": [],
   "source": [
    "from sklearn.externals import joblib\n",
    "rcParams['figure.figsize'] = 3, 3  #Adjust plot size\n",
    "kfold = StratifiedKFold(n_splits=5)\n",
    "rf_file = \"models\\\\LendingClub_v2\\\\random_forest.pkl\"\n",
    "gbc_file = \"models\\\\LendingClub_v2\\\\GBC.pkl\"\n",
    "logit_file = \"models\\\\LendingClub_v2\\\\Logit.pkl\"\n",
    "ann_file = \"models\\\\LendingClub_v2\\\\SklearnNeuralNet.pkl\"\n",
    "#fetch saved models\n",
    "rfc = joblib.load(rf_file)\n",
    "gbc = joblib.load(gbc_file)\n",
    "logit = joblib.load(logit_file)\n",
    "ann = joblib.load(ann_file)"
   ]
  },
  {
   "cell_type": "code",
   "execution_count": 167,
   "metadata": {
    "ExecuteTime": {
     "end_time": "2019-05-30T21:14:55.137431Z",
     "start_time": "2019-05-30T21:14:52.692855Z"
    }
   },
   "outputs": [
    {
     "name": "stdout",
     "output_type": "stream",
     "text": [
      "\u001b[1mPrinting Test Accuracy.... \u001b[0m\n",
      "Random Forest: 93.80 %\n",
      "Gradient Boosting: 95.65 %\n",
      "Logistic Regression: 91.45 %\n",
      "Neural Net: 86.40 % \n",
      " \n",
      "\n",
      "\u001b[1m Random Forest Classification Report...\n",
      " \u001b[0m\n",
      "              precision    recall  f1-score   support\n",
      "\n",
      "           0       0.98      0.89      0.94      2000\n",
      "           1       0.90      0.98      0.94      2000\n",
      "\n",
      "    accuracy                           0.94      4000\n",
      "   macro avg       0.94      0.94      0.94      4000\n",
      "weighted avg       0.94      0.94      0.94      4000\n",
      "\n"
     ]
    },
    {
     "data": {
      "image/png": "[encoded data removed]",
      "text/plain": [
       "<Figure size 216x216 with 2 Axes>"
      ]
     },
     "metadata": {
      "needs_background": "light"
     },
     "output_type": "display_data"
    },
    {
     "name": "stdout",
     "output_type": "stream",
     "text": [
      "\u001b[1m Gradient Boosting Classification Report...\n",
      " \u001b[0m\n",
      "              precision    recall  f1-score   support\n",
      "\n",
      "           0       0.98      0.93      0.96      2000\n",
      "           1       0.93      0.98      0.96      2000\n",
      "\n",
      "    accuracy                           0.96      4000\n",
      "   macro avg       0.96      0.96      0.96      4000\n",
      "weighted avg       0.96      0.96      0.96      4000\n",
      "\n"
     ]
    },
    {
     "data": {
      "image/png": "[encoded data removed]",
      "text/plain": [
       "<Figure size 216x216 with 2 Axes>"
      ]
     },
     "metadata": {
      "needs_background": "light"
     },
     "output_type": "display_data"
    },
    {
     "name": "stdout",
     "output_type": "stream",
     "text": [
      "\u001b[1m Logistic Regression Classification Report...\n",
      " \u001b[0m\n",
      "              precision    recall  f1-score   support\n",
      "\n",
      "           0       0.98      0.85      0.91      2000\n",
      "           1       0.86      0.98      0.92      2000\n",
      "\n",
      "    accuracy                           0.91      4000\n",
      "   macro avg       0.92      0.91      0.91      4000\n",
      "weighted avg       0.92      0.91      0.91      4000\n",
      "\n"
     ]
    },
    {
     "data": {
      "image/png": "[encoded data removed]",
      "text/plain": [
       "<Figure size 216x216 with 2 Axes>"
      ]
     },
     "metadata": {
      "needs_background": "light"
     },
     "output_type": "display_data"
    },
    {
     "name": "stdout",
     "output_type": "stream",
     "text": [
      "\u001b[1m Neural Network Classification Report...\n",
      " \u001b[0m\n",
      "              precision    recall  f1-score   support\n",
      "\n",
      "           0       0.97      0.75      0.85      2000\n",
      "           1       0.80      0.98      0.88      2000\n",
      "\n",
      "    accuracy                           0.86      4000\n",
      "   macro avg       0.88      0.86      0.86      4000\n",
      "weighted avg       0.88      0.86      0.86      4000\n",
      "\n"
     ]
    },
    {
     "data": {
      "image/png": "[encoded data removed]",
      "text/plain": [
       "<Figure size 216x216 with 2 Axes>"
      ]
     },
     "metadata": {
      "needs_background": "light"
     },
     "output_type": "display_data"
    }
   ],
   "source": [
    "#Some classification Reports and Confusion Matrices\n",
    "from sklearn.metrics import confusion_matrix, classification_report\n",
    "\n",
    "\n",
    "class_names = ['<50k', '>50k']\n",
    "\n",
    "rf_best_score = sklearn.metrics.accuracy_score(y_test, rfc.predict(encoder.transform(X_test)))\n",
    "gbc_best_score = sklearn.metrics.accuracy_score(y_test, gbc.predict(encoder.transform(X_test)))\n",
    "lr_best_score = sklearn.metrics.accuracy_score(y_test, logit.predict(encoder.transform(X_test)))\n",
    "nn_best_score = sklearn.metrics.accuracy_score(y_test, ann.predict(encoder.transform(X_test)))\n",
    "\n",
    "print(\"\\033[1mPrinting Test Accuracy.... \\033[0m\")\n",
    "print(\"Random Forest: {0:.2f} %\".format(rf_best_score * 100))\n",
    "print(\"Gradient Boosting: {0:.2f} %\".format(gbc_best_score * 100))\n",
    "print(\"Logistic Regression: {0:.2f} %\".format(lr_best_score * 100))\n",
    "print(\"Neural Net: {0:.2f} % \\n \\n\".format(nn_best_score * 100))\n",
    "\n",
    "\n",
    "rcParams['figure.figsize'] = 3, 3  #Adjust plot size\n",
    "\n",
    "print(\"\\033[1m Random Forest Classification Report...\\n \\033[0m\")\n",
    "print(classification_report(y_test, rfc.predict(encoder.transform(X_test))))\n",
    "cm = confusion_matrix(y_test, rfc.predict(encoder.transform(X_test)))\n",
    "plot_confusion_matrix(cm, classes=class_names)\n",
    "plt.show()\n",
    "\n",
    "print(\"\\033[1m Gradient Boosting Classification Report...\\n \\033[0m\")\n",
    "print(classification_report(y_test, gbc.predict(encoder.transform(X_test))))\n",
    "cm = confusion_matrix(y_test, gbc.predict(encoder.transform(X_test)))\n",
    "plot_confusion_matrix(cm, classes=class_names)\n",
    "plt.show()\n",
    "\n",
    "print(\"\\033[1m Logistic Regression Classification Report...\\n \\033[0m\")\n",
    "print(classification_report(y_test, logit.predict(encoder.transform(X_test))))\n",
    "cm = confusion_matrix(y_test, logit.predict(encoder.transform(X_test)))\n",
    "plot_confusion_matrix(cm, classes=class_names)\n",
    "plt.show()\n",
    "\n",
    "print(\"\\033[1m Neural Network Classification Report...\\n \\033[0m\")\n",
    "print(classification_report(y_test, ann.predict(encoder.transform(X_test))))\n",
    "cm = confusion_matrix(y_test, ann.predict(encoder.transform(X_test)))\n",
    "plot_confusion_matrix(cm, classes=class_names)\n",
    "plt.show()\n"
   ]
  },
  {
   "cell_type": "markdown",
   "metadata": {},
   "source": [
    "### Deep Learning \n",
    "Building an MLP. Using Hyperas for hyperparameter search.\n",
    "\n"
   ]
  },
  {
   "cell_type": "code",
   "execution_count": 169,
   "metadata": {
    "ExecuteTime": {
     "end_time": "2019-05-30T21:17:11.511589Z",
     "start_time": "2019-05-30T21:15:39.462897Z"
    },
    "scrolled": false
   },
   "outputs": [
    {
     "data": {
      "image/png": "[encoded data removed]",
      "text/plain": [
       "<Figure size 864x576 with 2 Axes>"
      ]
     },
     "metadata": {
      "needs_background": "light"
     },
     "output_type": "display_data"
    },
    {
     "name": "stdout",
     "output_type": "stream",
     "text": [
      "Log-loss (cost function):\n",
      "training   (min:    0.194, max:    0.806, cur:    0.196)\n",
      "validation (min:    0.197, max:    0.661, cur:    0.205)\n",
      "\n",
      "Accuracy:\n",
      "training   (min:    0.553, max:    0.928, cur:    0.927)\n",
      "validation (min:    0.599, max:    0.936, cur:    0.935)\n",
      "_________________________________________________________________\n",
      "Layer (type)                 Output Shape              Param #   \n",
      "=================================================================\n",
      "dense_1 (Dense)              (None, 1500)              180000    \n",
      "_________________________________________________________________\n",
      "batch_normalization_1 (Batch (None, 1500)              6000      \n",
      "_________________________________________________________________\n",
      "dropout_1 (Dropout)          (None, 1500)              0         \n",
      "_________________________________________________________________\n",
      "dense_2 (Dense)              (None, 500)               750500    \n",
      "_________________________________________________________________\n",
      "batch_normalization_2 (Batch (None, 500)               2000      \n",
      "_________________________________________________________________\n",
      "dense_3 (Dense)              (None, 250)               125250    \n",
      "_________________________________________________________________\n",
      "dropout_2 (Dropout)          (None, 250)               0         \n",
      "_________________________________________________________________\n",
      "dense_4 (Dense)              (None, 100)               25100     \n",
      "_________________________________________________________________\n",
      "dense_5 (Dense)              (None, 2)                 202       \n",
      "_________________________________________________________________\n",
      "activation_1 (Activation)    (None, 2)                 0         \n",
      "=================================================================\n",
      "Total params: 1,089,052\n",
      "Trainable params: 1,085,052\n",
      "Non-trainable params: 4,000\n",
      "_________________________________________________________________\n"
     ]
    }
   ],
   "source": [
    "#Keras Callbacks\n",
    "#early_stopping = keras.callbacks.EarlyStopping(monitor='val_loss',\n",
    "#                                               min_delta=0,\n",
    "#                                               patience=50,\n",
    "#                                               verbose=1,\n",
    "#                                               mode='auto')\n",
    "\n",
    "\n",
    "from keras.utils import multi_gpu_model\n",
    "import keras\n",
    "from keras.datasets import mnist\n",
    "from keras.models import Sequential, Model\n",
    "from keras.layers import Dense, Dropout, Flatten, Activation, BatchNormalization\n",
    "from keras.layers import Conv2D, MaxPooling2D\n",
    "from keras import backend as K\n",
    "import tensorflow as tf\n",
    "from keras.utils import multi_gpu_model\n",
    "# Import DeepExplain\n",
    "from deepexplain.tensorflow import DeepExplain\n",
    "from livelossplot import PlotLossesKeras\n",
    "\n",
    "MCP = keras.callbacks.ModelCheckpoint(\n",
    "   \"models\\\\LendingClub_v2\\\\ann_deepexplain.h5\",\n",
    "    monitor='val_acc',\n",
    "    mode='max',\n",
    "    verbose=1,\n",
    "    save_best_only=True)\n",
    "\n",
    "model = Sequential()\n",
    "model.add(Dense(1500, input_shape = (119,), activation = 'relu'))\n",
    "model.add(BatchNormalization(momentum = .62))\n",
    "model.add(Dropout(0.75))\n",
    "model.add(Dense(500, activation = 'relu'))\n",
    "model.add(BatchNormalization(momentum = .62))\n",
    "model.add(Dense(250, activation = 'relu'))\n",
    "model.add(Dropout(0.5))\n",
    "model.add(Dense(100, activation = 'relu'))\n",
    "model.add(Dense(2))\n",
    "model.add(Activation('softmax'))\n",
    "\n",
    "with tf.device('/gpu:0'):\n",
    "    model.compile(loss='binary_crossentropy',\n",
    "              optimizer='adam',\n",
    "              metrics=['accuracy'])\n",
    "\n",
    "    sess = tf.Session(config=tf.ConfigProto(allow_soft_placement=True,\n",
    "                                        log_device_placement=True))\n",
    "\n",
    "    history = model.fit(encoded_train.toarray(), tf.keras.utils.to_categorical(y_train,2), batch_size= 1000,\n",
    "                   epochs=250, verbose=2,\\\n",
    "                        validation_split= .2, callbacks= [MCP, PlotLossesKeras()])\n",
    "    sess.close()\n",
    "\n",
    "model.summary()"
   ]
  },
  {
   "cell_type": "code",
   "execution_count": 170,
   "metadata": {
    "ExecuteTime": {
     "end_time": "2019-05-30T21:17:16.698955Z",
     "start_time": "2019-05-30T21:17:16.694939Z"
    }
   },
   "outputs": [],
   "source": [
    "path_to_ann = 'models\\\\LendingClub_v2\\\\ann_deepexplain.h5'\n"
   ]
  },
  {
   "cell_type": "code",
   "execution_count": 171,
   "metadata": {
    "ExecuteTime": {
     "end_time": "2019-05-30T21:17:19.483415Z",
     "start_time": "2019-05-30T21:17:18.029815Z"
    }
   },
   "outputs": [],
   "source": [
    "model = load_model(path_to_ann)"
   ]
  },
  {
   "cell_type": "code",
   "execution_count": 172,
   "metadata": {
    "ExecuteTime": {
     "end_time": "2019-05-30T21:17:21.259676Z",
     "start_time": "2019-05-30T21:17:20.906779Z"
    }
   },
   "outputs": [
    {
     "name": "stdout",
     "output_type": "stream",
     "text": [
      "\u001b[1m Neural Net Classification Report...\n",
      " \u001b[0m\n",
      "0.93175\n",
      "              precision    recall  f1-score   support\n",
      "\n",
      "           0       0.98      0.88      0.93      2000\n",
      "           1       0.89      0.98      0.93      2000\n",
      "\n",
      "    accuracy                           0.93      4000\n",
      "   macro avg       0.94      0.93      0.93      4000\n",
      "weighted avg       0.94      0.93      0.93      4000\n",
      "\n"
     ]
    },
    {
     "data": {
      "image/png": "[encoded data removed]",
      "text/plain": [
       "<Figure size 216x216 with 2 Axes>"
      ]
     },
     "metadata": {
      "needs_background": "light"
     },
     "output_type": "display_data"
    },
    {
     "data": {
      "text/plain": [
       "array([[1767,  233],\n",
       "       [  40, 1960]], dtype=int64)"
      ]
     },
     "execution_count": 172,
     "metadata": {},
     "output_type": "execute_result"
    }
   ],
   "source": [
    "#Some classification Reports and Confusion Matrices\n",
    "ypred = np.argmax(model.predict(encoder.transform(X_test).toarray()), axis = 1)\n",
    "ytest = y_test\n",
    "class_names = ['<50k', '>50k']\n",
    "rcParams['figure.figsize'] = 3, 3\n",
    "print(\"\\033[1m Neural Net Classification Report...\\n \\033[0m\")\n",
    "print(sklearn.metrics.accuracy_score(ytest,ypred))\n",
    "print(sklearn.metrics.classification_report(ytest, ypred))\n",
    "cm = sklearn.metrics.confusion_matrix(ytest, ypred)\n",
    "plot_confusion_matrix(cm, classes=class_names)\n",
    "plt.show()\n",
    "cm"
   ]
  }
 ],
 "metadata": {
  "kernelspec": {
   "display_name": "Python 3",
   "language": "python",
   "name": "python3"
  },
  "language_info": {
   "codemirror_mode": {
    "name": "ipython",
    "version": 3
   },
   "file_extension": ".py",
   "mimetype": "text/x-python",
   "name": "python",
   "nbconvert_exporter": "python",
   "pygments_lexer": "ipython3",
   "version": "3.7.0"
  }
 },
 "nbformat": 4,
 "nbformat_minor": 2
}
